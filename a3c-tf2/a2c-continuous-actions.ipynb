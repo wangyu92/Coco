{
 "cells": [
  {
   "cell_type": "code",
   "execution_count": 61,
   "metadata": {},
   "outputs": [
    {
     "name": "stdout",
     "output_type": "stream",
     "text": [
      "tensorflow2.0\n"
     ]
    }
   ],
   "source": [
    "!echo $CONDA_DEFAULT_ENV"
   ]
  },
  {
   "cell_type": "code",
   "execution_count": 60,
   "metadata": {},
   "outputs": [
    {
     "name": "stdout",
     "output_type": "stream",
     "text": [
      "2.0.0\n"
     ]
    }
   ],
   "source": [
    "import tensorflow as tf\n",
    "print(tf.__version__)"
   ]
  },
  {
   "cell_type": "markdown",
   "metadata": {},
   "source": [
    "# Simpel Env"
   ]
  },
  {
   "cell_type": "code",
   "execution_count": 22,
   "metadata": {},
   "outputs": [],
   "source": [
    "import numpy as np\n",
    "\n",
    "class Env:\n",
    "    def __init__(self):\n",
    "        self.action_dim = 1.1\n",
    "        self.action_low = 2\n",
    "        self.action_high = 10000\n",
    "    \n",
    "    def reset(self):\n",
    "        self.state = np.array([5345.6543, 1.])\n",
    "        return self.state\n",
    "        \n",
    "    def obs(self):\n",
    "        return self.state\n",
    "        \n",
    "    def step(self, action):\n",
    "        self.state[0] /= action\n",
    "        self.state[1] *= action\n",
    "        \n",
    "        if self.state[0] < self.state[1]:\n",
    "            return self.state, -10, True\n",
    "        elif self.state[0] - self.state[1] < 1.:\n",
    "            return self.state, 10, True\n",
    "        else:\n",
    "            return self.state, 0, False"
   ]
  },
  {
   "cell_type": "code",
   "execution_count": 23,
   "metadata": {},
   "outputs": [
    {
     "name": "stdout",
     "output_type": "stream",
     "text": [
      "[5.3456543e+03 1.0000000e+00]\n",
      "(array([2.67282715e+03, 2.00000000e+00]), 0, False)\n",
      "(array([1336.413575,    4.      ]), 0, False)\n",
      "(array([668.2067875,   8.       ]), 0, False)\n",
      "(array([334.10339375,  16.        ]), 0, False)\n",
      "(array([167.05169688,  32.        ]), 0, False)\n",
      "(array([83.52584844, 64.        ]), 0, False)\n",
      "(array([ 41.76292422, 128.        ]), -10, True)\n"
     ]
    }
   ],
   "source": [
    "env = Env()\n",
    "print(env.reset())\n",
    "print(env.step(2))\n",
    "print(env.step(2))\n",
    "print(env.step(2))\n",
    "print(env.step(2))\n",
    "print(env.step(2))\n",
    "print(env.step(2))\n",
    "print(env.step(2))"
   ]
  },
  {
   "cell_type": "markdown",
   "metadata": {},
   "source": [
    "# A2C with Continuous Actions"
   ]
  },
  {
   "cell_type": "markdown",
   "metadata": {},
   "source": [
    "## 모델 구성"
   ]
  },
  {
   "cell_type": "code",
   "execution_count": 24,
   "metadata": {},
   "outputs": [],
   "source": [
    "import numpy as np\n",
    "import tensorflow as tf\n",
    "import tensorflow_probability as tfp\n",
    "import tensorflow.keras as keras\n",
    "\n",
    "class Model(tf.keras.Model):\n",
    "    def __init__(self):\n",
    "        super().__init__('mlp_policy')\n",
    "        \n",
    "        # actor\n",
    "        self.hidden_p1 = keras.layers.Dense(40, activation='elu')\n",
    "        self.hidden_p2 = keras.layers.Dense(40, activation='elu')\n",
    "        self.mu = keras.layers.Dense(1)\n",
    "        self.sigma = keras.layers.Dense(1)\n",
    "        \n",
    "        # critic\n",
    "        self.hidden_v1 = keras.layers.Dense(400, activation='elu')\n",
    "        self.hidden_v2 = keras.layers.Dense(400, activation='elu')\n",
    "        self.value = keras.layers.Dense(1, name='value')\n",
    "        \n",
    "    def call(self, inputs):\n",
    "        # inputs is a numpy array, convert to tensor\n",
    "        x = tf.convert_to_tensor(inputs, dtype=tf.float32)\n",
    "        \n",
    "        # actor\n",
    "        hidden_p = self.hidden_p1(x)\n",
    "        hidden_p = self.hidden_p2(hidden_p)\n",
    "        mu = self.mu(hidden_p)\n",
    "        sigma = self.sigma(hidden_p)\n",
    "        sigma = tf.math.softplus(sigma) + 1e-5\n",
    "        self.norm_dist = tfp.distributions.Normal(mu, sigma)\n",
    "        action_tf_var = tf.squeeze(self.norm_dist.sample(1), axis=0)\n",
    "        action_tf_var = tf.clip_by_value(action_tf_var, env.action_low, env.action_high)\n",
    "        \n",
    "        # critic\n",
    "        hidden_v = self.hidden_v1(x)\n",
    "        hidden_v = self.hidden_v2(hidden_v)\n",
    "        out_value = self.value(hidden_v)\n",
    "    \n",
    "        return action_tf_var, out_value\n",
    "    \n",
    "    def action_value(self, obs):\n",
    "        policy, value = self.predict(obs)\n",
    "\n",
    "        return np.squeeze(policy, axis=-1), np.squeeze(value, axis=-1)"
   ]
  },
  {
   "cell_type": "markdown",
   "metadata": {},
   "source": [
    "We'll build our stochastic policy function, estimated by the fully-connected network below. The network input is the state and output are two scalar functions, mu and delta, which are used as the mean and standard deviation of a Gaussian (normal) distribution. We will choose our actions by smapling from this distribution. The stochastic policy provides some dgree of bulit-in exploration mechanism, since the network initialization will cause a non-zero sigma value."
   ]
  },
  {
   "cell_type": "code",
   "execution_count": 25,
   "metadata": {},
   "outputs": [
    {
     "name": "stdout",
     "output_type": "stream",
     "text": [
      "[2.] [0.40011925]\n"
     ]
    }
   ],
   "source": [
    "model = Model()\n",
    "a, b = model.action_value(np.array([[44., 20.]]))\n",
    "print(a, b)"
   ]
  },
  {
   "cell_type": "markdown",
   "metadata": {},
   "source": [
    "# Random Agent"
   ]
  },
  {
   "cell_type": "code",
   "execution_count": 29,
   "metadata": {},
   "outputs": [],
   "source": [
    "class A2CAgent:\n",
    "    def __init__(self, model):\n",
    "        self.model = model\n",
    "        \n",
    "    def test(self, env):\n",
    "        state, done, ep_reward = env.reset(), False, 0\n",
    "        while not done:\n",
    "            action, _ = self.model.action_value(state[None, :])\n",
    "            state, reward, done = env.step(action)\n",
    "            ep_reward += reward\n",
    "        return ep_reward"
   ]
  },
  {
   "cell_type": "code",
   "execution_count": 30,
   "metadata": {},
   "outputs": [
    {
     "name": "stdout",
     "output_type": "stream",
     "text": [
      "0.0 %\n"
     ]
    }
   ],
   "source": [
    "agent = A2CAgent(model)\n",
    "iter_cnt = 100\n",
    "succ_cnt = 0\n",
    "for _ in range(100):\n",
    "    rewards_sum = agent.test(env)\n",
    "    if rewards_sum == 10:\n",
    "        succ_cnt +=1\n",
    "print(succ_cnt / 100 * 100, \"%\")"
   ]
  },
  {
   "cell_type": "code",
   "execution_count": 63,
   "metadata": {},
   "outputs": [
    {
     "name": "stdout",
     "output_type": "stream",
     "text": [
      "[[1.]] [[0.12043588]]\n"
     ]
    },
    {
     "ename": "AttributeError",
     "evalue": "module 'tensorflow' has no attribute 'log'",
     "output_type": "error",
     "traceback": [
      "\u001b[0;31m---------------------------------------------------------------------------\u001b[0m",
      "\u001b[0;31mAttributeError\u001b[0m                            Traceback (most recent call last)",
      "\u001b[0;32m<ipython-input-63-fd7d056c1fb6>\u001b[0m in \u001b[0;36m<module>\u001b[0;34m\u001b[0m\n\u001b[1;32m      7\u001b[0m \u001b[0;34m\u001b[0m\u001b[0m\n\u001b[1;32m      8\u001b[0m \u001b[0;31m# define actor (policy) loss function\u001b[0m\u001b[0;34m\u001b[0m\u001b[0;34m\u001b[0m\u001b[0;34m\u001b[0m\u001b[0m\n\u001b[0;32m----> 9\u001b[0;31m \u001b[0mloss_actorr\u001b[0m \u001b[0;34m=\u001b[0m \u001b[0;34m-\u001b[0m\u001b[0mtf\u001b[0m\u001b[0;34m.\u001b[0m\u001b[0mlog\u001b[0m\u001b[0;34m(\u001b[0m\u001b[0;34m)\u001b[0m\u001b[0;34m\u001b[0m\u001b[0;34m\u001b[0m\u001b[0m\n\u001b[0m",
      "\u001b[0;31mAttributeError\u001b[0m: module 'tensorflow' has no attribute 'log'"
     ]
    }
   ],
   "source": [
    "lr_actor = 0.00001\n",
    "lr_critic = 0.00056\n",
    "\n",
    "action = 0.\n",
    "\n",
    "# instantiate state-value function & policy network\n",
    "action_tf_var, V = model.predict(np.array([1.]))\n",
    "print(action_tf_var, V)\n",
    "\n",
    "# define actor (policy) loss function\n",
    "norm_dist = model.norm_dist\n",
    "loss_actorr = -tf.log(norm_dist.prob(action))"
   ]
  }
 ],
 "metadata": {
  "kernelspec": {
   "display_name": "Python 3",
   "language": "python",
   "name": "python3"
  },
  "language_info": {
   "codemirror_mode": {
    "name": "ipython",
    "version": 3
   },
   "file_extension": ".py",
   "mimetype": "text/x-python",
   "name": "python",
   "nbconvert_exporter": "python",
   "pygments_lexer": "ipython3",
   "version": "3.7.3"
  }
 },
 "nbformat": 4,
 "nbformat_minor": 4
}
