{
 "cells": [
  {
   "cell_type": "markdown",
   "metadata": {},
   "source": [
    "## Checking tensorflow version"
   ]
  },
  {
   "cell_type": "code",
   "execution_count": 2,
   "metadata": {},
   "outputs": [
    {
     "name": "stdout",
     "output_type": "stream",
     "text": [
      "2.0.0\n",
      "True\n"
     ]
    }
   ],
   "source": [
    "import os\n",
    "import tensorflow as tf\n",
    "os.environ['CUDA_VISIBLE_DEVICES']='1'\n",
    "print(tf.__version__)\n",
    "print(tf.executing_eagerly())"
   ]
  },
  {
   "cell_type": "code",
   "execution_count": 4,
   "metadata": {},
   "outputs": [
    {
     "name": "stdout",
     "output_type": "stream",
     "text": [
      "Num GPUs Available:  1\n"
     ]
    }
   ],
   "source": [
    "print(\"Num GPUs Available: \", len(tf.config.experimental.list_physical_devices('GPU')))"
   ]
  },
  {
   "cell_type": "markdown",
   "metadata": {},
   "source": [
    "Note that we're now in eager mode by default!"
   ]
  },
  {
   "cell_type": "markdown",
   "metadata": {},
   "source": [
    "---"
   ]
  },
  {
   "cell_type": "markdown",
   "metadata": {},
   "source": [
    "# Simple Environment"
   ]
  },
  {
   "cell_type": "markdown",
   "metadata": {},
   "source": [
    "### Env test"
   ]
  },
  {
   "cell_type": "code",
   "execution_count": 5,
   "metadata": {},
   "outputs": [
    {
     "name": "stdout",
     "output_type": "stream",
     "text": [
      "[1. 1.]\n",
      "(array([2., 1.]), 1, False)\n",
      "(array([2., 2.]), 1, False)\n",
      "(array([3., 2.]), 1, False)\n",
      "(array([3., 3.]), 1, True)\n",
      "\n",
      "[1. 1.]\n",
      "(array([2., 1.]), 1, False)\n",
      "(array([3., 1.]), -1, False)\n",
      "(array([4., 1.]), -1, True)\n"
     ]
    }
   ],
   "source": [
    "from env import Env\n",
    "\n",
    "e = Env()\n",
    "print(e.reset())\n",
    "print(e.step(0)) # move to down\n",
    "print(e.step(1)) # move to right\n",
    "print(e.step(0)) # move to down\n",
    "print(e.step(1)) # move to right\n",
    "print()\n",
    "print(e.reset())\n",
    "print(e.step(0)) # move to down\n",
    "print(e.step(0)) # move to down\n",
    "print(e.step(0)) # move to down"
   ]
  },
  {
   "cell_type": "markdown",
   "metadata": {},
   "source": [
    "---"
   ]
  },
  {
   "cell_type": "markdown",
   "metadata": {},
   "source": [
    "# A2C"
   ]
  },
  {
   "cell_type": "markdown",
   "metadata": {},
   "source": [
    "## 모델 구성"
   ]
  },
  {
   "cell_type": "markdown",
   "metadata": {},
   "source": [
    "기본적으로 구성한 모델이 잘 동작하는지 확인하기 위해서 테스트(feeding), 학습이 되지 않은 모델임"
   ]
  },
  {
   "cell_type": "code",
   "execution_count": 6,
   "metadata": {},
   "outputs": [
    {
     "name": "stdout",
     "output_type": "stream",
     "text": [
      "[0.43724027 0.56275976] 1 [-0.25288045]\n"
     ]
    }
   ],
   "source": [
    "from a2c import Model\n",
    "import numpy as np\n",
    "\n",
    "env = Env()\n",
    "model = Model(num_actions=env.action_dim)\n",
    "\n",
    "state = env.reset()\n",
    "state = np.expand_dims(state, axis=0)\n",
    "# no feed_dict or tf.ession() needed at all\n",
    "logits, action, value = model.action_value(state)\n",
    "print(logits, action, value)"
   ]
  },
  {
   "cell_type": "markdown",
   "metadata": {},
   "source": [
    "## Training"
   ]
  },
  {
   "cell_type": "code",
   "execution_count": 7,
   "metadata": {},
   "outputs": [
    {
     "name": "stdout",
     "output_type": "stream",
     "text": [
      "."
     ]
    },
    {
     "ename": "AttributeError",
     "evalue": "'A2CAgent' object has no attribute '_returns_advantages'",
     "output_type": "error",
     "traceback": [
      "\u001b[0;31m---------------------------------------------------------------------------\u001b[0m",
      "\u001b[0;31mAttributeError\u001b[0m                            Traceback (most recent call last)",
      "\u001b[0;32m<ipython-input-7-bdd62db416ad>\u001b[0m in \u001b[0;36m<module>\u001b[0;34m\u001b[0m\n\u001b[1;32m      9\u001b[0m \u001b[0magent\u001b[0m \u001b[0;34m=\u001b[0m \u001b[0mA2CAgent\u001b[0m\u001b[0;34m(\u001b[0m\u001b[0mmodel\u001b[0m\u001b[0;34m)\u001b[0m\u001b[0;34m\u001b[0m\u001b[0;34m\u001b[0m\u001b[0m\n\u001b[1;32m     10\u001b[0m \u001b[0menv\u001b[0m \u001b[0;34m=\u001b[0m \u001b[0mEnv\u001b[0m\u001b[0;34m(\u001b[0m\u001b[0;34m)\u001b[0m\u001b[0;34m\u001b[0m\u001b[0;34m\u001b[0m\u001b[0m\n\u001b[0;32m---> 11\u001b[0;31m \u001b[0mrewards_history\u001b[0m \u001b[0;34m=\u001b[0m \u001b[0magent\u001b[0m\u001b[0;34m.\u001b[0m\u001b[0mtrain\u001b[0m\u001b[0;34m(\u001b[0m\u001b[0menv\u001b[0m\u001b[0;34m)\u001b[0m\u001b[0;34m\u001b[0m\u001b[0;34m\u001b[0m\u001b[0m\n\u001b[0m\u001b[1;32m     12\u001b[0m \u001b[0mprint\u001b[0m\u001b[0;34m(\u001b[0m\u001b[0;34m\"Training Runtime: %f sec\"\u001b[0m \u001b[0;34m%\u001b[0m \u001b[0;34m(\u001b[0m\u001b[0mtime\u001b[0m\u001b[0;34m.\u001b[0m\u001b[0mtime\u001b[0m\u001b[0;34m(\u001b[0m\u001b[0;34m)\u001b[0m \u001b[0;34m-\u001b[0m \u001b[0mst_time\u001b[0m\u001b[0;34m)\u001b[0m\u001b[0;34m)\u001b[0m\u001b[0;34m\u001b[0m\u001b[0;34m\u001b[0m\u001b[0m\n",
      "\u001b[0;32m~/conda_project/webrtc2019/a3c-tf2/a2c-simple-env/agent.py\u001b[0m in \u001b[0;36mtrain\u001b[0;34m(self, env, batch_size, updates)\u001b[0m\n\u001b[1;32m     43\u001b[0m \u001b[0;34m\u001b[0m\u001b[0m\n\u001b[1;32m     44\u001b[0m \u001b[0;31m#             print(actions)\u001b[0m\u001b[0;34m\u001b[0m\u001b[0;34m\u001b[0m\u001b[0;34m\u001b[0m\u001b[0m\n\u001b[0;32m---> 45\u001b[0;31m             \u001b[0mreturns\u001b[0m\u001b[0;34m,\u001b[0m \u001b[0madvs\u001b[0m \u001b[0;34m=\u001b[0m \u001b[0mself\u001b[0m\u001b[0;34m.\u001b[0m\u001b[0m_returns_advantages\u001b[0m\u001b[0;34m(\u001b[0m\u001b[0mrewards\u001b[0m\u001b[0;34m,\u001b[0m \u001b[0mdones\u001b[0m\u001b[0;34m,\u001b[0m \u001b[0mvalues\u001b[0m\u001b[0;34m,\u001b[0m \u001b[0mnext_value\u001b[0m\u001b[0;34m)\u001b[0m\u001b[0;34m\u001b[0m\u001b[0;34m\u001b[0m\u001b[0m\n\u001b[0m\u001b[1;32m     46\u001b[0m             \u001b[0;31m# a trick to input actions and advantages through same API\u001b[0m\u001b[0;34m\u001b[0m\u001b[0;34m\u001b[0m\u001b[0;34m\u001b[0m\u001b[0m\n\u001b[1;32m     47\u001b[0m \u001b[0;34m\u001b[0m\u001b[0m\n",
      "\u001b[0;31mAttributeError\u001b[0m: 'A2CAgent' object has no attribute '_returns_advantages'"
     ]
    }
   ],
   "source": [
    "import time\n",
    "from env import Env\n",
    "from a2c import Model\n",
    "from agent import A2CAgent\n",
    "\n",
    "st_time = time.time()\n",
    "env = Env()\n",
    "model = Model(num_actions=env.action_dim)\n",
    "agent = A2CAgent(model)\n",
    "env = Env()\n",
    "rewards_history = agent.train(env)\n",
    "print(\"Training Runtime: %f sec\" % (time.time() - st_time))"
   ]
  },
  {
   "cell_type": "markdown",
   "metadata": {},
   "source": [
    "### Results"
   ]
  },
  {
   "cell_type": "code",
   "execution_count": 5,
   "metadata": {},
   "outputs": [
    {
     "name": "stdout",
     "output_type": "stream",
     "text": [
      "[0.445631   0.55436903] 1 [1.8962058]\n"
     ]
    }
   ],
   "source": [
    "import numpy as np\n",
    "\n",
    "state = env.reset()\n",
    "state = np.array([1., 1.])\n",
    "state = np.expand_dims(state, axis=0)\n",
    "\n",
    "# no feed_dict or tf.ession() needed at all\n",
    "logits, action, value = model.action_value(state)\n",
    "print(logits, action, value)"
   ]
  },
  {
   "cell_type": "code",
   "execution_count": 6,
   "metadata": {},
   "outputs": [
    {
     "name": "stdout",
     "output_type": "stream",
     "text": [
      "[4, -1, 2, 4, -1, -1, 4, 4, 4, -1, 4, 4, 4, 4, 2, 0, 4, 4, 2, -1, 4, 2, 4, 4, 2, 4, 4, 2, 4, 2, 4, 4, 4, 4, 4, 2, 4, 2, 4, 0, 2, 4, 2, 2, 2, 2, 2, 2, 2, 2, 4, 2, 4, 4, 4, 4, 4, 4, 4, 4, 4, 2, 2, 2, 4, 2, 4, 4, 2, 4, 2, 4, 2, -1, 2, 4, 4, 4, 4, 4, 4, 2, 4, -1, 4, 2, -1, 4, 2, 4, 4, 4, 4, 0, -1, 4, 2, -1, 2, 2]\n",
      "54 % succecss\n"
     ]
    }
   ],
   "source": [
    "iter_cnt = 100\n",
    "succ_cnt = 0\n",
    "\n",
    "rewards = []\n",
    "for _ in range(iter_cnt):\n",
    "    reward = agent.test(env)\n",
    "    rewards.append(reward)\n",
    "    if reward == 4:\n",
    "        succ_cnt += 1\n",
    "\n",
    "print(rewards)\n",
    "print(\"%d %% succecss\" % (succ_cnt / iter_cnt * 100))"
   ]
  }
 ],
 "metadata": {
  "kernelspec": {
   "display_name": "Python 3",
   "language": "python",
   "name": "python3"
  },
  "language_info": {
   "codemirror_mode": {
    "name": "ipython",
    "version": 3
   },
   "file_extension": ".py",
   "mimetype": "text/x-python",
   "name": "python",
   "nbconvert_exporter": "python",
   "pygments_lexer": "ipython3",
   "version": "3.7.3"
  }
 },
 "nbformat": 4,
 "nbformat_minor": 4
}
