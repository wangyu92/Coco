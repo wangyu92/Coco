{
 "cells": [
  {
   "cell_type": "markdown",
   "metadata": {},
   "source": [
    "## Checking tensorflow version"
   ]
  },
  {
   "cell_type": "code",
   "execution_count": 1,
   "metadata": {},
   "outputs": [
    {
     "name": "stdout",
     "output_type": "stream",
     "text": [
      "2.0.0\n",
      "True\n"
     ]
    }
   ],
   "source": [
    "import tensorflow as tf\n",
    "print(tf.__version__)\n",
    "print(tf.executing_eagerly())"
   ]
  },
  {
   "cell_type": "markdown",
   "metadata": {},
   "source": [
    "Note that we're now in eager mode by default!"
   ]
  },
  {
   "cell_type": "markdown",
   "metadata": {},
   "source": [
    "---"
   ]
  },
  {
   "cell_type": "markdown",
   "metadata": {},
   "source": [
    "# Simple Environment"
   ]
  },
  {
   "cell_type": "markdown",
   "metadata": {},
   "source": [
    "### Env test"
   ]
  },
  {
   "cell_type": "code",
   "execution_count": 2,
   "metadata": {},
   "outputs": [
    {
     "name": "stdout",
     "output_type": "stream",
     "text": [
      "[1. 1.]\n",
      "(array([2., 1.]), 1, False)\n",
      "(array([2., 2.]), 1, False)\n",
      "(array([3., 2.]), 1, False)\n",
      "(array([3., 3.]), 1, True)\n",
      "\n",
      "[1. 1.]\n",
      "(array([2., 1.]), 1, False)\n",
      "(array([3., 1.]), -1, False)\n",
      "(array([4., 1.]), -1, True)\n"
     ]
    }
   ],
   "source": [
    "from env import Env\n",
    "\n",
    "e = Env()\n",
    "print(e.reset())\n",
    "print(e.step(0)) # move to down\n",
    "print(e.step(1)) # move to right\n",
    "print(e.step(0)) # move to down\n",
    "print(e.step(1)) # move to right\n",
    "print()\n",
    "print(e.reset())\n",
    "print(e.step(0)) # move to down\n",
    "print(e.step(0)) # move to down\n",
    "print(e.step(0)) # move to down"
   ]
  },
  {
   "cell_type": "markdown",
   "metadata": {},
   "source": [
    "---"
   ]
  },
  {
   "cell_type": "markdown",
   "metadata": {},
   "source": [
    "# A2C"
   ]
  },
  {
   "cell_type": "markdown",
   "metadata": {},
   "source": [
    "## 모델 구성"
   ]
  },
  {
   "cell_type": "markdown",
   "metadata": {},
   "source": [
    "기본적으로 구성한 모델이 잘 동작하는지 확인하기 위해서 테스트(feeding), 학습이 되지 않은 모델임"
   ]
  },
  {
   "cell_type": "code",
   "execution_count": 3,
   "metadata": {},
   "outputs": [
    {
     "name": "stdout",
     "output_type": "stream",
     "text": [
      "[ 0.17476356 -0.08431263] 1 [0.1729171]\n"
     ]
    }
   ],
   "source": [
    "from a2c import Model\n",
    "import numpy as np\n",
    "\n",
    "env = Env()\n",
    "model = Model(num_actions=env.action_dim)\n",
    "\n",
    "state = env.reset()\n",
    "state = np.expand_dims(state, axis=0)\n",
    "# no feed_dict or tf.ession() needed at all\n",
    "logits, action, value = model.action_value(state)\n",
    "print(logits, action, value)"
   ]
  },
  {
   "cell_type": "markdown",
   "metadata": {},
   "source": [
    "## Random Agent\n",
    "위 학습이 되지 않은 모델을 이용하여 어느 단계까지 가는지 확인(즉, 학습이 되지 않았을 때의 성능 테스트)"
   ]
  },
  {
   "cell_type": "code",
   "execution_count": 1,
   "metadata": {},
   "outputs": [
    {
     "name": "stdout",
     "output_type": "stream",
     "text": [
      ".....................................................................................................\n",
      "....................................................................................................\n",
      "....................................................................................................\n",
      "....................................................................................................\n",
      "...................................................................................................Training Runtime: 568.508492 sec\n"
     ]
    }
   ],
   "source": [
    "import time\n",
    "from env import Env\n",
    "from a2c import Model\n",
    "from agent import A2CAgent\n",
    "\n",
    "st_time = time.time()\n",
    "env = Env()\n",
    "model = Model(num_actions=env.action_dim)\n",
    "agent = A2CAgent(model)\n",
    "env = Env()\n",
    "rewards_history = agent.train(env)\n",
    "print(\"Training Runtime: %f sec\" % (time.time() - st_time))"
   ]
  },
  {
   "cell_type": "markdown",
   "metadata": {},
   "source": [
    "### Training"
   ]
  },
  {
   "cell_type": "markdown",
   "metadata": {},
   "source": [
    "### Results"
   ]
  },
  {
   "cell_type": "code",
   "execution_count": 5,
   "metadata": {},
   "outputs": [
    {
     "name": "stdout",
     "output_type": "stream",
     "text": [
      "[0.445631   0.55436903] 1 [1.8962058]\n"
     ]
    }
   ],
   "source": [
    "import numpy as np\n",
    "\n",
    "state = env.reset()\n",
    "state = np.array([1., 1.])\n",
    "state = np.expand_dims(state, axis=0)\n",
    "\n",
    "# no feed_dict or tf.ession() needed at all\n",
    "logits, action, value = model.action_value(state)\n",
    "print(logits, action, value)"
   ]
  },
  {
   "cell_type": "code",
   "execution_count": 6,
   "metadata": {},
   "outputs": [
    {
     "name": "stdout",
     "output_type": "stream",
     "text": [
      "[4, -1, 2, 4, -1, -1, 4, 4, 4, -1, 4, 4, 4, 4, 2, 0, 4, 4, 2, -1, 4, 2, 4, 4, 2, 4, 4, 2, 4, 2, 4, 4, 4, 4, 4, 2, 4, 2, 4, 0, 2, 4, 2, 2, 2, 2, 2, 2, 2, 2, 4, 2, 4, 4, 4, 4, 4, 4, 4, 4, 4, 2, 2, 2, 4, 2, 4, 4, 2, 4, 2, 4, 2, -1, 2, 4, 4, 4, 4, 4, 4, 2, 4, -1, 4, 2, -1, 4, 2, 4, 4, 4, 4, 0, -1, 4, 2, -1, 2, 2]\n",
      "54 % succecss\n"
     ]
    }
   ],
   "source": [
    "iter_cnt = 100\n",
    "succ_cnt = 0\n",
    "\n",
    "rewards = []\n",
    "for _ in range(iter_cnt):\n",
    "    reward = agent.test(env)\n",
    "    rewards.append(reward)\n",
    "    if reward == 4:\n",
    "        succ_cnt += 1\n",
    "\n",
    "print(rewards)\n",
    "print(\"%d %% succecss\" % (succ_cnt / iter_cnt * 100))"
   ]
  }
 ],
 "metadata": {
  "kernelspec": {
   "display_name": "Python 3",
   "language": "python",
   "name": "python3"
  },
  "language_info": {
   "codemirror_mode": {
    "name": "ipython",
    "version": 3
   },
   "file_extension": ".py",
   "mimetype": "text/x-python",
   "name": "python",
   "nbconvert_exporter": "python",
   "pygments_lexer": "ipython3",
   "version": "3.7.3"
  }
 },
 "nbformat": 4,
 "nbformat_minor": 4
}
