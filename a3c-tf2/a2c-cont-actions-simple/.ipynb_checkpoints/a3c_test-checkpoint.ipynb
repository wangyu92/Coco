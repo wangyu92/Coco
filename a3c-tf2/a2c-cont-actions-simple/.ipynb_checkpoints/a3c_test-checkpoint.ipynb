{
 "cells": [
  {
   "cell_type": "code",
   "execution_count": 1,
   "metadata": {},
   "outputs": [
    {
     "name": "stdout",
     "output_type": "stream",
     "text": [
      "learning_rate = 0.001000\n"
     ]
    }
   ],
   "source": [
    "import os\n",
    "os.environ['CUDA_VISIBLE_DEVICES']=''\n",
    "\n",
    "from multi_agent import MultiAgent\n",
    "\n",
    "multi_agent = MultiAgent(num_agents=1, updates=100)"
   ]
  },
  {
   "cell_type": "code",
   "execution_count": 2,
   "metadata": {},
   "outputs": [
    {
     "name": "stdout",
     "output_type": "stream",
     "text": [
      "[Thread 00, 1.383821] thread started\n",
      "[Thread 01, 1.389562] thread started\n",
      "[Thread 02, 1.395848] thread started\n",
      "[Thread 03, 1.403081] thread started\n",
      "[Thread 04, 1.410149] thread started\n",
      "[Thread 05, 1.417834] thread started\n",
      "[Thread 06, 1.425506] thread started\n",
      "[Thread 07, 1.431878] thread started\n",
      "[Thread 08, 1.438582] thread started\n",
      "[Thread 09, 1.446368] thread started\n",
      "[Thread 10, 1.450721] thread started\n",
      "[Thread 11, 1.459309] thread started\n",
      "[Thread 12, 1.464509] thread started\n",
      "[Thread 13, 1.472011] thread started\n",
      "[Thread 14, 1.478676] thread started\n",
      "[Thread 15, 1.488597] thread started\n",
      "[Thread 00, 79.025976] 50 epoches\n",
      "[Thread 06, 79.259518] 50 epoches\n",
      "[Thread 04, 79.367065] 50 epoches\n",
      "[Thread 02, 79.376348] 50 epoches\n",
      "[Thread 13, 79.410216] 50 epoches\n",
      "[Thread 14, 79.455559] 50 epoches\n",
      "[Thread 07, 79.486660] 50 epoches\n",
      "[Thread 01, 79.508090] 50 epoches\n",
      "[Thread 15, 79.705201] 50 epoches\n",
      "[Thread 11, 79.709130] 50 epoches\n",
      "[Thread 10, 79.771763] 50 epoches\n",
      "[Thread 09, 79.774401] 50 epoches\n",
      "[Thread 03, 79.891629] 50 epoches\n",
      "[Thread 12, 79.918962] 50 epoches\n",
      "[Thread 05, 79.995323] 50 epoches\n",
      "[Thread 08, 80.168696] 50 epoches\n",
      "[Central, 158.515540] All thread ends\n"
     ]
    }
   ],
   "source": [
    "multi_agent.train()"
   ]
  },
  {
   "cell_type": "markdown",
   "metadata": {},
   "source": [
    "## Test"
   ]
  },
  {
   "cell_type": "code",
   "execution_count": 3,
   "metadata": {},
   "outputs": [
    {
     "name": "stdout",
     "output_type": "stream",
     "text": [
      "-8\n",
      "-8\n",
      "-8\n",
      "-8\n",
      "-8\n",
      "-8\n",
      "-8\n",
      "-8\n",
      "-8\n",
      "-8\n",
      "-8\n",
      "-8\n",
      "-8\n",
      "-8\n",
      "-8\n",
      "-8\n",
      "-8\n",
      "-8\n",
      "-8\n",
      "-8\n",
      "-8\n",
      "-8\n",
      "-8\n",
      "-8\n",
      "-8\n",
      "-8\n",
      "-8\n",
      "-8\n",
      "-8\n",
      "-8\n",
      "-8\n",
      "-8\n",
      "-8\n",
      "-8\n",
      "-8\n",
      "-8\n",
      "-8\n",
      "-8\n",
      "-8\n",
      "-8\n",
      "-8\n",
      "-8\n",
      "-8\n",
      "-8\n",
      "-8\n",
      "-8\n",
      "-8\n",
      "-8\n",
      "-8\n",
      "-8\n",
      "-8\n",
      "-8\n",
      "-8\n",
      "-8\n",
      "-8\n",
      "-8\n",
      "-8\n",
      "-8\n",
      "-8\n",
      "-8\n",
      "-8\n",
      "-8\n",
      "-8\n",
      "-8\n",
      "-8\n",
      "-8\n",
      "-8\n",
      "-8\n",
      "-8\n",
      "-8\n",
      "-8\n",
      "-8\n",
      "-8\n",
      "-8\n",
      "-8\n",
      "-8\n",
      "-8\n",
      "-8\n",
      "-8\n",
      "-8\n",
      "-8\n",
      "-8\n",
      "-8\n",
      "-8\n",
      "-8\n",
      "-8\n",
      "-8\n",
      "-8\n",
      "-8\n",
      "-8\n",
      "-8\n",
      "-8\n",
      "-8\n",
      "-8\n",
      "-8\n",
      "-8\n",
      "-8\n",
      "-8\n",
      "-8\n",
      "-8\n",
      "0 % succecss\n"
     ]
    }
   ],
   "source": [
    "from env import Env\n",
    "\n",
    "env = Env()\n",
    "env.reset()\n",
    "\n",
    "iter_cnt = 100\n",
    "succ_cnt = 0\n",
    "\n",
    "for _ in range(iter_cnt):\n",
    "    rewards = multi_agent.test(env)\n",
    "    print(rewards)\n",
    "    if rewards >= 4:\n",
    "        succ_cnt += 1\n",
    "\n",
    "print(\"%d %% succecss\" % (succ_cnt / iter_cnt * 100))"
   ]
  }
 ],
 "metadata": {
  "kernelspec": {
   "display_name": "Python 3",
   "language": "python",
   "name": "python3"
  },
  "language_info": {
   "codemirror_mode": {
    "name": "ipython",
    "version": 3
   },
   "file_extension": ".py",
   "mimetype": "text/x-python",
   "name": "python",
   "nbconvert_exporter": "python",
   "pygments_lexer": "ipython3",
   "version": "3.7.3"
  }
 },
 "nbformat": 4,
 "nbformat_minor": 4
}
