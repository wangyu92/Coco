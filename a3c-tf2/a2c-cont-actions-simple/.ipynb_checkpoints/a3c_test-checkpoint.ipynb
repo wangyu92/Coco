{
 "cells": [
  {
   "cell_type": "code",
   "execution_count": 2,
   "metadata": {},
   "outputs": [
    {
     "name": "stdout",
     "output_type": "stream",
     "text": [
      "learning_rate = 0.001000\n"
     ]
    }
   ],
   "source": [
    "import os\n",
    "# os.environ['CUDA_VISIBLE_DEVICES']=''\n",
    "\n",
    "from multi_agent import MultiAgent\n",
    "\n",
    "multi_agent = MultiAgent(num_agents=1, updates=100)"
   ]
  },
  {
   "cell_type": "code",
   "execution_count": null,
   "metadata": {},
   "outputs": [
    {
     "name": "stdout",
     "output_type": "stream",
     "text": [
      "[Thread 00, 2.317516] thread started\n"
     ]
    }
   ],
   "source": [
    "multi_agent.train()"
   ]
  },
  {
   "cell_type": "markdown",
   "metadata": {},
   "source": [
    "## Test"
   ]
  },
  {
   "cell_type": "code",
   "execution_count": 3,
   "metadata": {},
   "outputs": [
    {
     "name": "stdout",
     "output_type": "stream",
     "text": [
      "-8\n",
      "-8\n",
      "-8\n",
      "-8\n",
      "-8\n",
      "-8\n",
      "-8\n",
      "-8\n",
      "-8\n",
      "-8\n",
      "-8\n",
      "-8\n",
      "-8\n",
      "-8\n",
      "-8\n",
      "-8\n",
      "-8\n",
      "-8\n",
      "-8\n",
      "-8\n",
      "-8\n",
      "-8\n",
      "-8\n",
      "-8\n",
      "-8\n",
      "-8\n",
      "-8\n",
      "-8\n",
      "-8\n",
      "-8\n",
      "-8\n",
      "-8\n",
      "-8\n",
      "-8\n",
      "-8\n",
      "-8\n",
      "-8\n",
      "-8\n",
      "-8\n",
      "-8\n",
      "-8\n",
      "-8\n",
      "-8\n",
      "-8\n",
      "-8\n",
      "-8\n",
      "-8\n",
      "-8\n",
      "-8\n",
      "-8\n",
      "-8\n",
      "-8\n",
      "-8\n",
      "-8\n",
      "-8\n",
      "-8\n",
      "-8\n",
      "-8\n",
      "-8\n",
      "-8\n",
      "-8\n",
      "-8\n",
      "-8\n",
      "-8\n",
      "-8\n",
      "-8\n",
      "-8\n",
      "-8\n",
      "-8\n",
      "-8\n",
      "-8\n",
      "-8\n",
      "-8\n",
      "-8\n",
      "-8\n",
      "-8\n",
      "-8\n",
      "-8\n",
      "-8\n",
      "-8\n",
      "-8\n",
      "-8\n",
      "-8\n",
      "-8\n",
      "-8\n",
      "-8\n",
      "-8\n",
      "-8\n",
      "-8\n",
      "-8\n",
      "-8\n",
      "-8\n",
      "-8\n",
      "-8\n",
      "-8\n",
      "-8\n",
      "-8\n",
      "-8\n",
      "-8\n",
      "-8\n",
      "0 % succecss\n"
     ]
    }
   ],
   "source": [
    "from env import Env\n",
    "\n",
    "env = Env()\n",
    "env.reset()\n",
    "\n",
    "iter_cnt = 100\n",
    "succ_cnt = 0\n",
    "\n",
    "for _ in range(iter_cnt):\n",
    "    rewards = multi_agent.test(env)\n",
    "    print(rewards)\n",
    "    if rewards >= 4:\n",
    "        succ_cnt += 1\n",
    "\n",
    "print(\"%d %% succecss\" % (succ_cnt / iter_cnt * 100))"
   ]
  }
 ],
 "metadata": {
  "kernelspec": {
   "display_name": "Python 3",
   "language": "python",
   "name": "python3"
  },
  "language_info": {
   "codemirror_mode": {
    "name": "ipython",
    "version": 3
   },
   "file_extension": ".py",
   "mimetype": "text/x-python",
   "name": "python",
   "nbconvert_exporter": "python",
   "pygments_lexer": "ipython3",
   "version": "3.7.3"
  }
 },
 "nbformat": 4,
 "nbformat_minor": 4
}
