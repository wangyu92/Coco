{
 "cells": [
  {
   "cell_type": "markdown",
   "metadata": {},
   "source": [
    "## Checking tensorflow version"
   ]
  },
  {
   "cell_type": "code",
   "execution_count": 1,
   "metadata": {},
   "outputs": [
    {
     "name": "stdout",
     "output_type": "stream",
     "text": [
      "2.0.0-rc1\n",
      "True\n"
     ]
    }
   ],
   "source": [
    "import tensorflow as tf\n",
    "print(tf.__version__)\n",
    "print(tf.executing_eagerly())"
   ]
  },
  {
   "cell_type": "markdown",
   "metadata": {},
   "source": [
    "Note that we're now in eager mode by default!"
   ]
  },
  {
   "cell_type": "markdown",
   "metadata": {},
   "source": [
    "---"
   ]
  },
  {
   "cell_type": "markdown",
   "metadata": {},
   "source": [
    "# Simple Environment"
   ]
  },
  {
   "cell_type": "code",
   "execution_count": 2,
   "metadata": {},
   "outputs": [],
   "source": [
    "import numpy as np\n",
    "\n",
    "class Env:\n",
    "    def __init__(self):\n",
    "        self.action_dim = 2\n",
    "        self.state = np.array([1., 1.])\n",
    "    \n",
    "    def reset(self):\n",
    "        self.state = np.array([1., 1.])\n",
    "        return self.state\n",
    "        \n",
    "    def obs(self):\n",
    "        return np.array(self.state)\n",
    "    \n",
    "    def step(self, action):\n",
    "        # 아래로 이동\n",
    "        if action == 0:\n",
    "            self.state[0] += 1\n",
    "        # 오른쪽으로 이동\n",
    "        elif action == 1:\n",
    "            self.state[1] += 1\n",
    "        reward, done = self.calc_reward()\n",
    "        return self.state, reward, done\n",
    "            \n",
    "    def calc_reward(self):\n",
    "        if self.state[0] > 3 or self.state[1] > 3:\n",
    "            return -1, True\n",
    "        elif self.state[0] == 1 and self.state[1] == 3:\n",
    "            return -1, False\n",
    "        elif self.state[0] == 3 and self.state[1] == 1:\n",
    "            return -1, False\n",
    "        elif self.state[0] == 3 and self.state[1] == 3:\n",
    "            return 1, True\n",
    "        else:\n",
    "            return 1, False"
   ]
  },
  {
   "cell_type": "markdown",
   "metadata": {},
   "source": [
    "### Env test"
   ]
  },
  {
   "cell_type": "code",
   "execution_count": 3,
   "metadata": {},
   "outputs": [
    {
     "name": "stdout",
     "output_type": "stream",
     "text": [
      "[1. 1.]\n",
      "(array([2., 1.]), 1, False)\n",
      "(array([2., 2.]), 1, False)\n",
      "(array([3., 2.]), 1, False)\n",
      "(array([3., 3.]), 1, True)\n",
      "\n",
      "[1. 1.]\n",
      "(array([2., 1.]), 1, False)\n",
      "(array([3., 1.]), -1, False)\n",
      "(array([4., 1.]), -1, True)\n"
     ]
    }
   ],
   "source": [
    "e = Env()\n",
    "print(e.reset())\n",
    "print(e.step(0)) # move to down\n",
    "print(e.step(1)) # move to right\n",
    "print(e.step(0)) # move to down\n",
    "print(e.step(1)) # move to right\n",
    "print()\n",
    "print(e.reset())\n",
    "print(e.step(0)) # move to down\n",
    "print(e.step(0)) # move to down\n",
    "print(e.step(0)) # move to down"
   ]
  },
  {
   "cell_type": "markdown",
   "metadata": {},
   "source": [
    "---"
   ]
  },
  {
   "cell_type": "markdown",
   "metadata": {},
   "source": [
    "# A2C"
   ]
  },
  {
   "cell_type": "markdown",
   "metadata": {},
   "source": [
    "## 모델 구성"
   ]
  },
  {
   "cell_type": "code",
   "execution_count": 4,
   "metadata": {},
   "outputs": [],
   "source": [
    "import numpy as np\n",
    "import tensorflow as tf\n",
    "import tensorflow.keras as keras\n",
    "\n",
    "class ProbabilityDistribution(tf.keras.Model):\n",
    "    def call(self, logits):\n",
    "        # sample a random categorical action from given logits\n",
    "        return tf.squeeze(tf.random.categorical(logits, 1), axis=-1)\n",
    "\n",
    "class Model(tf.keras.Model):\n",
    "    def __init__(self, num_actions):\n",
    "        super().__init__('mlp_policy')\n",
    "        # no tf.get_variable(), just simple Keras API\n",
    "        self.hidden1 = keras.layers.Dense(128, activation='relu')\n",
    "        self.hidden2 = keras.layers.Dense(128, activation='relu')\n",
    "        self.value = keras.layers.Dense(1, name='value')\n",
    "        # logits are unnormalized log probabilities\n",
    "        self.logits = keras.layers.Dense(num_actions, name='policy_logits')\n",
    "        self.dist = ProbabilityDistribution()\n",
    "\n",
    "    # 레이어를 구성해주는 부분인 것 같음\n",
    "    def call(self, inputs):\n",
    "        # inputs is a numpy array, convert to Tensor\n",
    "        x = tf.convert_to_tensor(inputs, dtype=tf.float32)\n",
    "        # separate hidden layers from the same input tensor\n",
    "        hidden_logs = self.hidden1(x)\n",
    "        hidden_vals = self.hidden2(x)\n",
    "        \n",
    "        return self.logits(hidden_logs), self.value(hidden_vals)\n",
    "\n",
    "    def action_value(self, obs):\n",
    "        # executes call() under the hood\n",
    "        logits, value = self.predict(obs)\n",
    "        action = self.dist.predict(logits)\n",
    "        # a simpler option, will become clear later why we don't use it\n",
    "        # action = tf.random.categorical(logits, 1)\n",
    "\n",
    "        return np.squeeze(logits, axis=0), np.squeeze(action, axis=-1), np.squeeze(value, axis=-1)"
   ]
  },
  {
   "cell_type": "markdown",
   "metadata": {},
   "source": [
    "기본적으로 구성한 모델이 잘 동작하는지 확인하기 위해서 테스트(feeding), 학습이 되지 않은 모델임"
   ]
  },
  {
   "cell_type": "code",
   "execution_count": 5,
   "metadata": {},
   "outputs": [
    {
     "name": "stdout",
     "output_type": "stream",
     "text": [
      "[-0.03893859 -0.22745085] 1 [0.1200963]\n"
     ]
    }
   ],
   "source": [
    "env = Env()\n",
    "model = Model(num_actions=env.action_dim)\n",
    "\n",
    "state = env.reset()\n",
    "state = np.expand_dims(state, axis=0)\n",
    "# no feed_dict or tf.ession() needed at all\n",
    "logits, action, value = model.action_value(state)\n",
    "print(logits, action, value)"
   ]
  },
  {
   "cell_type": "markdown",
   "metadata": {},
   "source": [
    "## Random Agent\n",
    "위 학습이 되지 않은 모델을 이용하여 어느 단계까지 가는지 확인(즉, 학습이 되지 않았을 때의 성능 테스트)"
   ]
  },
  {
   "cell_type": "code",
   "execution_count": 6,
   "metadata": {},
   "outputs": [],
   "source": [
    "class A2CAgent:\n",
    "    def __init__(self, model):\n",
    "        self.model = model\n",
    "        \n",
    "    def test(self, env):\n",
    "        state, done, ep_reward = env.reset(), False, 0\n",
    "        while not done:\n",
    "            _, action, _ = self.model.action_value(state[None, :])\n",
    "            state, reward, done = env.step(action)\n",
    "            ep_reward += reward\n",
    "        return ep_reward"
   ]
  },
  {
   "cell_type": "markdown",
   "metadata": {},
   "source": [
    "100 번 정도 테스트를 수행해보면 에러가 많이 발생하는 것을 알 수 있음."
   ]
  },
  {
   "cell_type": "code",
   "execution_count": 10,
   "metadata": {},
   "outputs": [
    {
     "name": "stdout",
     "output_type": "stream",
     "text": [
      "24.0 %\n"
     ]
    }
   ],
   "source": [
    "agent = A2CAgent(model)\n",
    "iter_cnt = 100\n",
    "succ_cnt = 0\n",
    "for _ in range(100):\n",
    "    rewards_sum = agent.test(env)\n",
    "    if rewards_sum == 4:\n",
    "        succ_cnt +=1\n",
    "print(succ_cnt / 100 * 100, \"%\")"
   ]
  },
  {
   "cell_type": "markdown",
   "metadata": {},
   "source": [
    "## Loss / Ojbective Function\n",
    "## Agent Training Loop"
   ]
  },
  {
   "cell_type": "code",
   "execution_count": 11,
   "metadata": {},
   "outputs": [],
   "source": [
    "class A2CAgent:\n",
    "    def __init__(self, model):\n",
    "        # hyperparameters for loss terms\n",
    "        self.params = {\n",
    "            'value': 0.5,\n",
    "            'entropy': 0.001}\n",
    "        self.model = model\n",
    "        self.model.compile(\n",
    "            optimizer=keras.optimizers.RMSprop(lr=0.0007),\n",
    "            # define separate losses for policy logits and value estimate\n",
    "            loss=[self._logits_loss, self._value_loss]\n",
    "        )\n",
    "\n",
    "    def test(self, env):\n",
    "        # unchanged from previous section\n",
    "        state, done, ep_reward = env.reset(), False, 0\n",
    "        while not done:\n",
    "            _, action, _ = self.model.action_value(state[None, :])\n",
    "            state, reward, done = env.step(action)\n",
    "            ep_reward += reward\n",
    "        return ep_reward\n",
    "\n",
    "    def _value_loss(self, returns, value):\n",
    "        # value loss is typically MSE between value estimates and returns\n",
    "        return self.params['value'] * keras.losses.mean_squared_error(returns, value)\n",
    "\n",
    "    def _logits_loss(self, acts_and_advs, logits):\n",
    "        # a trick to input actions and advantages through same API\n",
    "        actions, advantages = tf.split(acts_and_advs, 2, axis=-1)\n",
    "        # sparse categorical CE loss obj that supports sample_weight arg on call()\n",
    "        # from_logits argument ensures transformation into normalized probabilities\n",
    "        weighted_sparse_ce = keras.losses.SparseCategoricalCrossentropy(from_logits=True)\n",
    "        # policy loss is defined by policy gradients, weighted by advantages\n",
    "        # note: we only calculate the loss on the actions we've actually taken\n",
    "        actions = tf.cast(actions, tf.int32)\n",
    "        policy_loss = weighted_sparse_ce(actions, logits, sample_weight=advantages)\n",
    "        # entropy loss can be calculated via CE over itself\n",
    "        entropy_loss = keras.losses.categorical_crossentropy(logits, logits, from_logits=True)\n",
    "        # here signs are flipped because optimizer minimizes\n",
    "        return policy_loss - self.params['entropy']*entropy_loss"
   ]
  },
  {
   "cell_type": "markdown",
   "metadata": {},
   "source": [
    "And we're done with the objective functions! Note how compact the code is: there's almost more comment line than code itself."
   ]
  },
  {
   "cell_type": "markdown",
   "metadata": {},
   "source": [
    "## Agent Training Loop"
   ]
  },
  {
   "cell_type": "code",
   "execution_count": 16,
   "metadata": {},
   "outputs": [],
   "source": [
    "class A2CAgent:\n",
    "    def __init__(self, model):\n",
    "        # hyperparameters for loss terms\n",
    "        self.params = {\n",
    "            'value': 0.5,\n",
    "            'entropy': 0.001,\n",
    "            'gamma':0.99}\n",
    "        self.model = model\n",
    "        self.model.compile(\n",
    "            optimizer=keras.optimizers.RMSprop(lr=0.0007),\n",
    "            # define separate losses for policy logits and value estimate\n",
    "            loss=[self._logits_loss, self._value_loss]\n",
    "        )\n",
    "        \n",
    "    def train(self, env, batch_size=32, updates=500):\n",
    "        # storage helpers for a single batch of data\n",
    "        actions = np.empty((batch_size,), dtype=np.int32)\n",
    "        rewards, dones, values = np.empty((3, batch_size))\n",
    "        states = np.empty((batch_size, ) + env.state.shape)\n",
    "        # training loop: collect samples, send to optimize, repeat updates times\n",
    "        ep_rews = [0.0]\n",
    "        next_state = env.reset()\n",
    "        for update in range(updates):\n",
    "            for step in range(batch_size):\n",
    "                states[step] = next_state.copy()\n",
    "                _, actions[step], values[step] = self.model.action_value(np.expand_dims(next_state, axis=0))\n",
    "                next_state, rewards[step], dones[step] = env.step(actions[step])\n",
    "\n",
    "                ep_rews[-1] += rewards[step]\n",
    "                if dones[step]:\n",
    "                    ep_rews.append(0.0)\n",
    "                    next_obs = env.reset()\n",
    "\n",
    "            _, _, next_value = self.model.action_value(next_state[None, :])\n",
    "            returns, advs = self._returns_advantages(rewards, dones, values, next_value)\n",
    "            # a trick to input actions and advantages through same API\n",
    "            acts_and_advs = np.concatenate([actions[:, None], advs[:, None]], axis=-1)\n",
    "            # performs a full training step on the collected batch\n",
    "            # note: no need to mess around with gradients, Keras API handles it\n",
    "            losses = self.model.train_on_batch(states, [acts_and_advs, returns])\n",
    "        return ep_rews\n",
    "\n",
    "    def _returns_advantages(self, rewards, dones, values, next_value):\n",
    "        # next_value is the bootstrap value estimate of a future state (the critic)\n",
    "        returns = np.append(np.zeros_like(rewards), next_value, axis=-1)\n",
    "        # returns are calculated as discounted sum of future rewards\n",
    "        for t in reversed(range(rewards.shape[0])):\n",
    "            returns[t] = rewards[t] + self.params['gamma'] * returns[t+1] * (1-dones[t])\n",
    "        returns = returns[:-1]\n",
    "        # advantages are returns - baseline, value estimates in our case\n",
    "        advantages = returns - values\n",
    "        return returns, advantages\n",
    "\n",
    "    def test(self, env):\n",
    "        # unchanged from previous section\n",
    "        state, done, ep_reward = env.reset(), False, 0\n",
    "        while not done:\n",
    "            _, action, _ = self.model.action_value(state[None, :])\n",
    "            state, reward, done = env.step(action)\n",
    "            ep_reward += reward\n",
    "        return ep_reward\n",
    "\n",
    "    def _value_loss(self, returns, value):\n",
    "        # value loss is typically MSE between value estimates and returns\n",
    "        return self.params['value'] * keras.losses.mean_squared_error(returns, value)\n",
    "\n",
    "    def _logits_loss(self, acts_and_advs, logits):\n",
    "        # a trick to input actions and advantages through same API\n",
    "        actions, advantages = tf.split(acts_and_advs, 2, axis=-1)\n",
    "        # sparse categorical CE loss obj that supports sample_weight arg on call()\n",
    "        # from_logits argument ensures transformation into normalized probabilities\n",
    "        weighted_sparse_ce = keras.losses.SparseCategoricalCrossentropy(from_logits=True)\n",
    "        # policy loss is defined by policy gradients, weighted by advantages\n",
    "        # note: we only calculate the loss on the actions we've actually taken\n",
    "        actions = tf.cast(actions, tf.int32)\n",
    "        policy_loss = weighted_sparse_ce(actions, logits, sample_weight=advantages)\n",
    "        # entropy loss can be calculated via CE over itself\n",
    "        entropy_loss = keras.losses.categorical_crossentropy(logits, logits, from_logits=True)\n",
    "        # here signs are flipped because optimizer minimizes\n",
    "        return policy_loss - self.params['entropy']*entropy_loss"
   ]
  },
  {
   "cell_type": "markdown",
   "metadata": {},
   "source": [
    "## Training & Results"
   ]
  },
  {
   "cell_type": "markdown",
   "metadata": {},
   "source": [
    "### Training"
   ]
  },
  {
   "cell_type": "code",
   "execution_count": 14,
   "metadata": {},
   "outputs": [
    {
     "name": "stdout",
     "output_type": "stream",
     "text": [
      "Training Runtime: 109.562141 sec\n"
     ]
    }
   ],
   "source": [
    "import time\n",
    "st_time = time.time()\n",
    "agent = A2CAgent(model)\n",
    "env = Env()\n",
    "rewards_history = agent.train(env)\n",
    "print(\"Training Runtime: %f sec\" % (time.time() - st_time))"
   ]
  },
  {
   "cell_type": "markdown",
   "metadata": {},
   "source": [
    "### Results"
   ]
  },
  {
   "cell_type": "code",
   "execution_count": 15,
   "metadata": {},
   "outputs": [
    {
     "name": "stdout",
     "output_type": "stream",
     "text": [
      "55 % succecss\n"
     ]
    }
   ],
   "source": [
    "iter_cnt = 100\n",
    "succ_cnt = 0\n",
    "\n",
    "for _ in range(iter_cnt):\n",
    "    rewards = agent.test(env)\n",
    "    if rewards == 4:\n",
    "        succ_cnt += 1\n",
    "\n",
    "print(\"%d %% succecss\" % (succ_cnt / iter_cnt * 100))"
   ]
  },
  {
   "cell_type": "code",
   "execution_count": 176,
   "metadata": {},
   "outputs": [
    {
     "name": "stdout",
     "output_type": "stream",
     "text": [
      "False\n",
      "Finished trainning, testing...\n",
      "4 out of 4\n"
     ]
    }
   ],
   "source": [
    "with tf.Graph().as_default():\n",
    "    print(tf.executing_eagerly()) # False\n",
    "    \n",
    "    model = Model(num_actions=2)\n",
    "    agent = A2CAgent(model)\n",
    "    \n",
    "    rewards_history = agent.train(env)\n",
    "    print(\"Finished trainning, testing...\")\n",
    "    print(\"%d out of 4\" % agent.test(env))"
   ]
  }
 ],
 "metadata": {
  "kernelspec": {
   "display_name": "Python 3",
   "language": "python",
   "name": "python3"
  },
  "language_info": {
   "codemirror_mode": {
    "name": "ipython",
    "version": 3
   },
   "file_extension": ".py",
   "mimetype": "text/x-python",
   "name": "python",
   "nbconvert_exporter": "python",
   "pygments_lexer": "ipython3",
   "version": "3.7.1"
  }
 },
 "nbformat": 4,
 "nbformat_minor": 2
}
