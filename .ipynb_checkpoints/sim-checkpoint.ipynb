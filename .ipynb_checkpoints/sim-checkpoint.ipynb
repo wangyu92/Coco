{
 "cells": [
  {
   "cell_type": "markdown",
   "metadata": {},
   "source": [
    "# Requriement\n",
    "## Envinronment\n",
    "- 클러스터, 클라이언트 갯수를 랜덤으로 생성하고 초기화\n",
    "- 각 클러스터에 스트림을 제공하면 Utility metric을 계산해서 알려줌\n",
    "- dataset으로부터 trace를 가져와서 CH의 REMB를 결정"
   ]
  },
  {
   "cell_type": "code",
   "execution_count": 185,
   "metadata": {},
   "outputs": [
    {
     "ename": "SyntaxError",
     "evalue": "invalid syntax (<ipython-input-185-78f12ffab589>, line 23)",
     "output_type": "error",
     "traceback": [
      "\u001b[0;36m  File \u001b[0;32m\"<ipython-input-185-78f12ffab589>\"\u001b[0;36m, line \u001b[0;32m23\u001b[0m\n\u001b[0;31m    = np.random.randint(low=num_of_client_low, high=num_of_client_high, size=self.num_of_cluster)\u001b[0m\n\u001b[0m    ^\u001b[0m\n\u001b[0;31mSyntaxError\u001b[0m\u001b[0;31m:\u001b[0m invalid syntax\n"
     ]
    }
   ],
   "source": [
    "import numpy as np\n",
    "\n",
    "RANDOM_SEED = None\n",
    "\n",
    "class Environment:\n",
    "    def __init__(self,\n",
    "                 random_seed=RANDOM_SEED,\n",
    "                 num_of_cluster_low=1,\n",
    "                 num_of_cluster_high=100,\n",
    "                 num_of_client_low=1,\n",
    "                 num_of_client_high=30,\n",
    "                 trace_year_month=None,\n",
    "                 trace_type=\"youtube.com\"\n",
    "                ):\n",
    "        \n",
    "        # -- random seed --\n",
    "        self.random_seed = random_seed\n",
    "        np.random.seed(self.random_seed)\n",
    "        \n",
    "        # -- network configuration --\n",
    "        self.num_of_cluster = np.random.randint(low=num_of_cluster_low, high=num_of_cluster_high)\n",
    "        self.num_of_client_in_each_cluster = np.random.randint(low=num_of_client_low, high=num_of_client_high, size=self.num_of_cluster)\n",
    "        \n",
    "        # -- trace --\n",
    "        \n",
    "    def get_remb_of_cluster_head():\n",
    "        pass\n",
    "    \n",
    "    def set_bitrate_of_streams():\n",
    "        pass\n",
    "        \n",
    "    def p(self):\n",
    "        print(self.num_of_cluster)\n",
    "        print(self.num_of_client_in_each_cluster)\n",
    "        print(sum(self.num_of_client_in_each_cluster))\n",
    "        \n",
    "        \n",
    "env = Environment()\n",
    "env.p()"
   ]
  }
 ],
 "metadata": {
  "kernelspec": {
   "display_name": "Python 3",
   "language": "python",
   "name": "python3"
  },
  "language_info": {
   "codemirror_mode": {
    "name": "ipython",
    "version": 3
   },
   "file_extension": ".py",
   "mimetype": "text/x-python",
   "name": "python",
   "nbconvert_exporter": "python",
   "pygments_lexer": "ipython3",
   "version": "3.7.1"
  }
 },
 "nbformat": 4,
 "nbformat_minor": 2
}
