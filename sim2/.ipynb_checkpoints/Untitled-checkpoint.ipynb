{
 "cells": [
  {
   "cell_type": "code",
   "execution_count": 3,
   "metadata": {},
   "outputs": [
    {
     "data": {
      "text/plain": [
       "'2.2.4-tf'"
      ]
     },
     "execution_count": 3,
     "metadata": {},
     "output_type": "execute_result"
    }
   ],
   "source": [
    "import tensorflow.keras as keras\n",
    "\n",
    "keras.__version__"
   ]
  },
  {
   "cell_type": "code",
   "execution_count": 5,
   "metadata": {},
   "outputs": [
    {
     "name": "stdout",
     "output_type": "stream",
     "text": [
      "(2,)\n",
      "(1, 2)\n"
     ]
    }
   ],
   "source": [
    "import numpy as np\n",
    "\n",
    "a = np.array([2, 2])\n",
    "print(a.shape)\n",
    "b = np.expand_dims(a, axis=0)\n",
    "print(b.shape)"
   ]
  },
  {
   "cell_type": "code",
   "execution_count": 1,
   "metadata": {},
   "outputs": [
    {
     "name": "stderr",
     "output_type": "stream",
     "text": [
      "WARNING: Logging before flag parsing goes to stderr.\n",
      "W0926 15:09:12.063858 139750070785856 deprecation.py:506] From /home/wangyu/miniconda3/envs/2019ML/lib/python3.6/site-packages/tensorflow/python/ops/init_ops.py:1251: calling VarianceScaling.__init__ (from tensorflow.python.ops.init_ops) with dtype is deprecated and will be removed in a future version.\n",
      "Instructions for updating:\n",
      "Call initializer instance with the dtype argument instead of passing it to the constructor\n"
     ]
    },
    {
     "name": "stdout",
     "output_type": "stream",
     "text": [
      "Model: \"model\"\n",
      "_________________________________________________________________\n",
      "Layer (type)                 Output Shape              Param #   \n",
      "=================================================================\n",
      "input_1 (InputLayer)         [(None, 2)]               0         \n",
      "_________________________________________________________________\n",
      "dense (Dense)                (None, 10)                30        \n",
      "_________________________________________________________________\n",
      "dense_1 (Dense)              (None, 10)                110       \n",
      "_________________________________________________________________\n",
      "dense_2 (Dense)              (None, 2)                 22        \n",
      "=================================================================\n",
      "Total params: 162\n",
      "Trainable params: 162\n",
      "Non-trainable params: 0\n",
      "_________________________________________________________________\n",
      "Model: \"model_1\"\n",
      "_________________________________________________________________\n",
      "Layer (type)                 Output Shape              Param #   \n",
      "=================================================================\n",
      "input_1 (InputLayer)         [(None, 2)]               0         \n",
      "_________________________________________________________________\n",
      "dense (Dense)                (None, 10)                30        \n",
      "_________________________________________________________________\n",
      "dense_1 (Dense)              (None, 10)                110       \n",
      "_________________________________________________________________\n",
      "dense_3 (Dense)              (None, 1)                 11        \n",
      "=================================================================\n",
      "Total params: 151\n",
      "Trainable params: 151\n",
      "Non-trainable params: 0\n",
      "_________________________________________________________________\n"
     ]
    },
    {
     "name": "stderr",
     "output_type": "stream",
     "text": [
      "W0926 15:09:12.748360 139750070785856 deprecation_wrapper.py:119] From /home/wangyu/conda_project/webrtc2019/sim2/multi_agent.py:28: The name tf.keras.backend.set_session is deprecated. Please use tf.compat.v1.keras.backend.set_session instead.\n",
      "\n",
      "W0926 15:09:12.749966 139750070785856 deprecation_wrapper.py:119] From /home/wangyu/conda_project/webrtc2019/sim2/multi_agent.py:29: The name tf.global_variables_initializer is deprecated. Please use tf.compat.v1.global_variables_initializer instead.\n",
      "\n",
      "W0926 15:09:12.829288 139750070785856 deprecation_wrapper.py:119] From /home/wangyu/conda_project/webrtc2019/sim2/multi_agent.py:39: The name tf.summary.scalar is deprecated. Please use tf.compat.v1.summary.scalar instead.\n",
      "\n",
      "W0926 15:09:12.834171 139750070785856 deprecation_wrapper.py:119] From /home/wangyu/conda_project/webrtc2019/sim2/multi_agent.py:48: The name tf.placeholder is deprecated. Please use tf.compat.v1.placeholder instead.\n",
      "\n",
      "W0926 15:09:12.838528 139750070785856 deprecation_wrapper.py:119] From /home/wangyu/conda_project/webrtc2019/sim2/multi_agent.py:51: The name tf.summary.merge_all is deprecated. Please use tf.compat.v1.summary.merge_all instead.\n",
      "\n",
      "W0926 15:09:12.840486 139750070785856 deprecation_wrapper.py:119] From /home/wangyu/conda_project/webrtc2019/sim2/multi_agent.py:32: The name tf.summary.FileWriter is deprecated. Please use tf.compat.v1.summary.FileWriter instead.\n",
      "\n",
      "Exception in thread Thread-5:\n",
      "Traceback (most recent call last):\n",
      "  File \"/home/wangyu/miniconda3/envs/2019ML/lib/python3.6/threading.py\", line 916, in _bootstrap_inner\n",
      "    self.run()\n",
      "  File \"/home/wangyu/conda_project/webrtc2019/sim2/multi_agent.py\", line 111, in run\n",
      "    action, policy = self.model.get_action(state)\n",
      "  File \"/home/wangyu/conda_project/webrtc2019/sim2/a3c.py\", line 85, in get_action\n",
      "    policy = self.actor.predict(np.expand_dims(state, axis=0))\n",
      "  File \"/home/wangyu/miniconda3/envs/2019ML/lib/python3.6/site-packages/tensorflow/python/keras/engine/training.py\", line 1078, in predict\n",
      "    callbacks=callbacks)\n",
      "  File \"/home/wangyu/miniconda3/envs/2019ML/lib/python3.6/site-packages/tensorflow/python/keras/engine/training_arrays.py\", line 363, in model_iteration\n",
      "    batch_outs = f(ins_batch)\n",
      "  File \"/home/wangyu/miniconda3/envs/2019ML/lib/python3.6/site-packages/tensorflow/python/keras/backend.py\", line 3289, in __call__\n",
      "    self._make_callable(feed_arrays, feed_symbols, symbol_vals, session)\n",
      "  File \"/home/wangyu/miniconda3/envs/2019ML/lib/python3.6/site-packages/tensorflow/python/keras/backend.py\", line 3222, in _make_callable\n",
      "    callable_fn = session._make_callable_from_options(callable_opts)\n",
      "  File \"/home/wangyu/miniconda3/envs/2019ML/lib/python3.6/site-packages/tensorflow/python/client/session.py\", line 1489, in _make_callable_from_options\n",
      "    return BaseSession._Callable(self, callable_options)\n",
      "  File \"/home/wangyu/miniconda3/envs/2019ML/lib/python3.6/site-packages/tensorflow/python/client/session.py\", line 1446, in __init__\n",
      "    session._session, options_ptr)\n",
      "tensorflow.python.framework.errors_impl.InvalidArgumentError: Tensor input_2:0, specified in either feed_devices or fetch_devices was not found in the Graph\n",
      "\n"
     ]
    }
   ],
   "source": [
    "import multi_agent\n",
    "\n",
    "global_agent = multi_agent.CentralAgent()\n",
    "global_agent.train()"
   ]
  }
 ],
 "metadata": {
  "kernelspec": {
   "display_name": "Python 3",
   "language": "python",
   "name": "python3"
  },
  "language_info": {
   "codemirror_mode": {
    "name": "ipython",
    "version": 3
   },
   "file_extension": ".py",
   "mimetype": "text/x-python",
   "name": "python",
   "nbconvert_exporter": "python",
   "pygments_lexer": "ipython3",
   "version": "3.6.8"
  }
 },
 "nbformat": 4,
 "nbformat_minor": 4
}
