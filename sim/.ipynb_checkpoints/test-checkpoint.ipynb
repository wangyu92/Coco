{
 "cells": [
  {
   "cell_type": "code",
   "execution_count": 1,
   "metadata": {},
   "outputs": [
    {
     "name": "stderr",
     "output_type": "stream",
     "text": [
      "WARNING: Logging before flag parsing goes to stderr.\n",
      "W0910 13:53:09.251280 140288441476928 deprecation.py:323] From /home/wangyu/miniconda3/lib/python3.7/site-packages/tensorflow/python/compat/v2_compat.py:61: disable_resource_variables (from tensorflow.python.ops.variable_scope) is deprecated and will be removed in a future version.\n",
      "Instructions for updating:\n",
      "non-resource variables are not supported in the long term\n",
      "W0910 13:53:09.618277 140288441476928 deprecation_wrapper.py:119] From /home/wangyu/miniconda3/lib/python3.7/site-packages/tflearn/helpers/summarizer.py:9: The name tf.summary.merge is deprecated. Please use tf.compat.v1.summary.merge instead.\n",
      "\n",
      "W0910 13:53:09.619453 140288441476928 deprecation_wrapper.py:119] From /home/wangyu/miniconda3/lib/python3.7/site-packages/tflearn/helpers/trainer.py:25: The name tf.summary.FileWriter is deprecated. Please use tf.compat.v1.summary.FileWriter instead.\n",
      "\n",
      "W0910 13:53:09.624105 140288441476928 deprecation_wrapper.py:119] From /home/wangyu/miniconda3/lib/python3.7/site-packages/tflearn/collections.py:13: The name tf.GraphKeys is deprecated. Please use tf.compat.v1.GraphKeys instead.\n",
      "\n",
      "W0910 13:53:09.627098 140288441476928 deprecation_wrapper.py:119] From /home/wangyu/miniconda3/lib/python3.7/site-packages/tflearn/config.py:123: The name tf.get_collection is deprecated. Please use tf.compat.v1.get_collection instead.\n",
      "\n",
      "W0910 13:53:09.631929 140288441476928 deprecation_wrapper.py:119] From /home/wangyu/miniconda3/lib/python3.7/site-packages/tflearn/config.py:129: The name tf.add_to_collection is deprecated. Please use tf.compat.v1.add_to_collection instead.\n",
      "\n",
      "W0910 13:53:09.632529 140288441476928 deprecation_wrapper.py:119] From /home/wangyu/miniconda3/lib/python3.7/site-packages/tflearn/config.py:131: The name tf.assign is deprecated. Please use tf.compat.v1.assign instead.\n",
      "\n"
     ]
    }
   ],
   "source": [
    "import env\n",
    "import multi_agent"
   ]
  },
  {
   "cell_type": "code",
   "execution_count": 2,
   "metadata": {},
   "outputs": [
    {
     "name": "stdout",
     "output_type": "stream",
     "text": [
      "1.0\n"
     ]
    }
   ],
   "source": [
    "def fairness(streams, rembs):\n",
    "    frac = []\n",
    "    for i in range(len(streams)):\n",
    "        frac.append(streams[i] / rembs[i])\n",
    "        \n",
    "    a = sum(frac) ** 2\n",
    "    b = len(frac) * sum(list(map(lambda x: x**2, frac)))\n",
    "    \n",
    "    return a / b\n",
    "\n",
    "print(fairness([1, 2, 3], [10, 20, 30]))"
   ]
  },
  {
   "cell_type": "code",
   "execution_count": 3,
   "metadata": {},
   "outputs": [
    {
     "name": "stdout",
     "output_type": "stream",
     "text": [
      "4500\n"
     ]
    }
   ],
   "source": [
    "def hardware(streams):\n",
    "    v = sum(streams)\n",
    "    print(v)\n",
    "    \n",
    "hardware([1000, 2000, 1500])"
   ]
  },
  {
   "cell_type": "code",
   "execution_count": 4,
   "metadata": {},
   "outputs": [
    {
     "name": "stderr",
     "output_type": "stream",
     "text": [
      "W0910 13:53:09.732614 140288441476928 deprecation_wrapper.py:119] From /home/wangyu/miniconda3/lib/python3.7/site-packages/tflearn/layers/core.py:81: The name tf.placeholder is deprecated. Please use tf.compat.v1.placeholder instead.\n",
      "\n",
      "W0910 13:53:09.746192 140288441476928 deprecation.py:506] From /home/wangyu/miniconda3/lib/python3.7/site-packages/tflearn/initializations.py:119: calling UniformUnitScaling.__init__ (from tensorflow.python.ops.init_ops) with dtype is deprecated and will be removed in a future version.\n",
      "Instructions for updating:\n",
      "Call initializer instance with the dtype argument instead of passing it to the constructor\n",
      "W0910 13:53:09.748623 140288441476928 deprecation.py:323] From /home/wangyu/miniconda3/lib/python3.7/site-packages/tensorflow/python/util/deprecation.py:507: UniformUnitScaling.__init__ (from tensorflow.python.ops.init_ops) is deprecated and will be removed in a future version.\n",
      "Instructions for updating:\n",
      "Use tf.initializers.variance_scaling instead with distribution=uniform to get equivalent behavior.\n",
      "Process Process-1:\n",
      "Traceback (most recent call last):\n",
      "  File \"/home/wangyu/miniconda3/lib/python3.7/multiprocessing/process.py\", line 297, in _bootstrap\n",
      "    self.run()\n",
      "  File \"/home/wangyu/miniconda3/lib/python3.7/multiprocessing/process.py\", line 99, in run\n",
      "    self._target(*self._args, **self._kwargs)\n",
      "  File \"/home/wangyu/conda_project/webrtc2019/sim/multi_agent.py\", line 96, in central_agent\n",
      "    learning_rate=ACTOR_LR_RATE)\n",
      "  File \"/home/wangyu/conda_project/webrtc2019/sim/a3c.py\", line 32, in __init__\n",
      "    self.inputs, self.out = self.create_actor_network()\n",
      "  File \"/home/wangyu/conda_project/webrtc2019/sim/a3c.py\", line 77, in create_actor_network\n",
      "    split_2 = tflearn.fully_connected(inputs[:, 2:3, -1], 128, 4, activation='relu')\n",
      "TypeError: fully_connected() got multiple values for argument 'activation'\n"
     ]
    },
    {
     "ename": "NameError",
     "evalue": "name 'load_trace' is not defined",
     "output_type": "error",
     "traceback": [
      "\u001b[0;31m---------------------------------------------------------------------------\u001b[0m",
      "\u001b[0;31mNameError\u001b[0m                                 Traceback (most recent call last)",
      "\u001b[0;32m<ipython-input-4-cab245a7114e>\u001b[0m in \u001b[0;36m<module>\u001b[0;34m\u001b[0m\n\u001b[0;32m----> 1\u001b[0;31m \u001b[0mmulti_agent\u001b[0m\u001b[0;34m.\u001b[0m\u001b[0mmain\u001b[0m\u001b[0;34m(\u001b[0m\u001b[0;34m)\u001b[0m\u001b[0;34m\u001b[0m\u001b[0;34m\u001b[0m\u001b[0m\n\u001b[0m",
      "\u001b[0;32m~/conda_project/webrtc2019/sim/multi_agent.py\u001b[0m in \u001b[0;36mmain\u001b[0;34m()\u001b[0m\n\u001b[1;32m    367\u001b[0m     \u001b[0mcoordinator\u001b[0m\u001b[0;34m.\u001b[0m\u001b[0mstart\u001b[0m\u001b[0;34m(\u001b[0m\u001b[0;34m)\u001b[0m\u001b[0;34m\u001b[0m\u001b[0;34m\u001b[0m\u001b[0m\n\u001b[1;32m    368\u001b[0m \u001b[0;34m\u001b[0m\u001b[0m\n\u001b[0;32m--> 369\u001b[0;31m     \u001b[0mall_cooked_time\u001b[0m\u001b[0;34m,\u001b[0m \u001b[0mall_cooked_bw\u001b[0m\u001b[0;34m,\u001b[0m \u001b[0m_\u001b[0m \u001b[0;34m=\u001b[0m \u001b[0mload_trace\u001b[0m\u001b[0;34m.\u001b[0m\u001b[0mload_trace\u001b[0m\u001b[0;34m(\u001b[0m\u001b[0mTRAIN_TRACES\u001b[0m\u001b[0;34m)\u001b[0m\u001b[0;34m\u001b[0m\u001b[0;34m\u001b[0m\u001b[0m\n\u001b[0m\u001b[1;32m    370\u001b[0m     \u001b[0magents\u001b[0m \u001b[0;34m=\u001b[0m \u001b[0;34m[\u001b[0m\u001b[0;34m]\u001b[0m\u001b[0;34m\u001b[0m\u001b[0;34m\u001b[0m\u001b[0m\n\u001b[1;32m    371\u001b[0m     \u001b[0;32mfor\u001b[0m \u001b[0mi\u001b[0m \u001b[0;32min\u001b[0m \u001b[0mxrange\u001b[0m\u001b[0;34m(\u001b[0m\u001b[0mNUM_AGENTS\u001b[0m\u001b[0;34m)\u001b[0m\u001b[0;34m:\u001b[0m\u001b[0;34m\u001b[0m\u001b[0;34m\u001b[0m\u001b[0m\n",
      "\u001b[0;31mNameError\u001b[0m: name 'load_trace' is not defined"
     ]
    }
   ],
   "source": [
    "multi_agent.main()"
   ]
  },
  {
   "cell_type": "code",
   "execution_count": null,
   "metadata": {},
   "outputs": [],
   "source": [
    "%time\n",
    "\n",
    "#63403380965376\n",
    "\n",
    "k = 0\n",
    "\n",
    "for i in range(0, 600000000):\n",
    "    k += i\n",
    "    \n",
    "print(k)"
   ]
  }
 ],
 "metadata": {
  "kernelspec": {
   "display_name": "Python 3",
   "language": "python",
   "name": "python3"
  },
  "language_info": {
   "codemirror_mode": {
    "name": "ipython",
    "version": 3
   },
   "file_extension": ".py",
   "mimetype": "text/x-python",
   "name": "python",
   "nbconvert_exporter": "python",
   "pygments_lexer": "ipython3",
   "version": "3.7.1"
  }
 },
 "nbformat": 4,
 "nbformat_minor": 2
}
