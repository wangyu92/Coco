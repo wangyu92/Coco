{
 "cells": [
  {
   "cell_type": "code",
   "execution_count": 3,
   "metadata": {},
   "outputs": [
    {
     "name": "stdout",
     "output_type": "stream",
     "text": [
      "W0925 02:23:14.290300 140269126317824 plugin_event_accumulator.py:294] Found more than one graph event per run, or there was a metagraph containing a graph_def, as well as one or more graph events.  Overwriting the graph with the newest event.\n",
      "W0925 02:23:14.312718 140269126317824 plugin_event_accumulator.py:294] Found more than one graph event per run, or there was a metagraph containing a graph_def, as well as one or more graph events.  Overwriting the graph with the newest event.\n",
      "W0925 02:23:14.325949 140269126317824 plugin_event_accumulator.py:294] Found more than one graph event per run, or there was a metagraph containing a graph_def, as well as one or more graph events.  Overwriting the graph with the newest event.\n",
      "W0925 02:23:14.331522 140269126317824 plugin_event_accumulator.py:294] Found more than one graph event per run, or there was a metagraph containing a graph_def, as well as one or more graph events.  Overwriting the graph with the newest event.\n",
      "TensorBoard 1.14.0 at http://MobiSys-Server:8897/ (Press CTRL+C to quit)\n",
      "I0925 02:23:21.734348 140269168264960 _internal.py:97] ::ffff:118.36.80.19 - - [25/Sep/2019 02:23:21] \"\u001b[37mGET / HTTP/1.1\u001b[0m\" 200 -\n",
      "I0925 02:23:21.969636 140269176657664 _internal.py:97] ::ffff:118.36.80.19 - - [25/Sep/2019 02:23:21] \"\u001b[37mGET /font-roboto/oMMgfZMQthOryQo9n22dcuvvDin1pK8aKteLpeZ5c0A.woff2 HTTP/1.1\u001b[0m\" 200 -\n",
      "I0925 02:23:22.500369 140269176657664 _internal.py:97] ::ffff:118.36.80.19 - - [25/Sep/2019 02:23:22] \"\u001b[37mGET /data/environment HTTP/1.1\u001b[0m\" 200 -\n",
      "I0925 02:23:22.503799 140269168264960 _internal.py:97] ::ffff:118.36.80.19 - - [25/Sep/2019 02:23:22] \"\u001b[37mGET /data/plugins_listing HTTP/1.1\u001b[0m\" 200 -\n",
      "I0925 02:23:22.507802 140268263175936 _internal.py:97] ::ffff:118.36.80.19 - - [25/Sep/2019 02:23:22] \"\u001b[37mGET /data/runs HTTP/1.1\u001b[0m\" 200 -\n",
      "I0925 02:23:22.509180 140268237997824 _internal.py:97] ::ffff:118.36.80.19 - - [25/Sep/2019 02:23:22] \"\u001b[37mGET /data/experiments HTTP/1.1\u001b[0m\" 200 -\n",
      "I0925 02:23:22.557799 140269168264960 _internal.py:97] ::ffff:118.36.80.19 - - [25/Sep/2019 02:23:22] \"\u001b[37mGET /font-roboto/RxZJdnzeo3R5zSexge8UUZBw1xU1rKptJj_0jans920.woff2 HTTP/1.1\u001b[0m\" 200 -\n",
      "I0925 02:23:22.563747 140269176657664 _internal.py:97] ::ffff:118.36.80.19 - - [25/Sep/2019 02:23:22] \"\u001b[37mGET /data/plugins_listing HTTP/1.1\u001b[0m\" 200 -\n",
      "I0925 02:23:22.587343 140268237997824 _internal.py:97] ::ffff:118.36.80.19 - - [25/Sep/2019 02:23:22] \"\u001b[37mGET /data/runs HTTP/1.1\u001b[0m\" 200 -\n",
      "I0925 02:23:22.588819 140269168264960 _internal.py:97] ::ffff:118.36.80.19 - - [25/Sep/2019 02:23:22] \"\u001b[37mGET /data/environment HTTP/1.1\u001b[0m\" 200 -\n",
      "I0925 02:23:22.589495 140268263175936 _internal.py:97] ::ffff:118.36.80.19 - - [25/Sep/2019 02:23:22] \"\u001b[37mGET /data/experiments HTTP/1.1\u001b[0m\" 200 -\n",
      "I0925 02:23:22.660022 140268263175936 _internal.py:97] ::ffff:118.36.80.19 - - [25/Sep/2019 02:23:22] \"\u001b[37mGET /data/plugin/graphs/info HTTP/1.1\u001b[0m\" 200 -\n",
      "I0925 02:23:22.662360 140269168264960 _internal.py:97] ::ffff:118.36.80.19 - - [25/Sep/2019 02:23:22] \"\u001b[37mGET /data/plugins_listing HTTP/1.1\u001b[0m\" 200 -\n",
      "I0925 02:23:22.719395 140269168264960 _internal.py:97] ::ffff:118.36.80.19 - - [25/Sep/2019 02:23:22] \"\u001b[37mGET /data/plugins_listing HTTP/1.1\u001b[0m\" 200 -\n",
      "I0925 02:23:22.835576 140269168264960 _internal.py:97] ::ffff:118.36.80.19 - - [25/Sep/2019 02:23:22] \"\u001b[37mGET /data/plugin/graphs/graph?run=.&conceptual=false HTTP/1.1\u001b[0m\" 200 -\n",
      "I0925 02:23:23.275809 140269168264960 _internal.py:97] ::ffff:118.36.80.19 - - [25/Sep/2019 02:23:23] \"\u001b[37mGET /data/plugins_listing HTTP/1.1\u001b[0m\" 200 -\n",
      "I0925 02:23:25.985557 140269168264960 _internal.py:97] ::ffff:118.36.80.19 - - [25/Sep/2019 02:23:25] \"\u001b[37mGET /data/plugins_listing HTTP/1.1\u001b[0m\" 200 -\n",
      "I0925 02:23:26.002980 140268263175936 _internal.py:97] ::ffff:118.36.80.19 - - [25/Sep/2019 02:23:26] \"\u001b[37mGET /font-roboto/d-6IYplOFocCacKzxwXSOJBw1xU1rKptJj_0jans920.woff2 HTTP/1.1\u001b[0m\" 200 -\n",
      "I0925 02:23:26.074933 140269168264960 _internal.py:97] ::ffff:118.36.80.19 - - [25/Sep/2019 02:23:26] \"\u001b[37mGET /data/plugin/custom_scalars/layout HTTP/1.1\u001b[0m\" 200 -\n",
      "^C\n"
     ]
    }
   ],
   "source": [
    "!tensorboard --logdir='./results' --port=8897"
   ]
  }
 ],
 "metadata": {
  "kernelspec": {
   "display_name": "Python 3",
   "language": "python",
   "name": "python3"
  },
  "language_info": {
   "codemirror_mode": {
    "name": "ipython",
    "version": 3
   },
   "file_extension": ".py",
   "mimetype": "text/x-python",
   "name": "python",
   "nbconvert_exporter": "python",
   "pygments_lexer": "ipython3",
   "version": "3.6.8"
  }
 },
 "nbformat": 4,
 "nbformat_minor": 4
}
