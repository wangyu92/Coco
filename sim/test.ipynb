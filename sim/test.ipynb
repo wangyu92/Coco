{
 "cells": [
  {
   "cell_type": "code",
   "execution_count": 7,
   "metadata": {},
   "outputs": [
    {
     "data": {
      "text/plain": [
       "'2.2.4-tf'"
      ]
     },
     "execution_count": 7,
     "metadata": {},
     "output_type": "execute_result"
    }
   ],
   "source": [
    "import tensorflow.keras as keras\n",
    "\n",
    "keras.__version__"
   ]
  },
  {
   "cell_type": "markdown",
   "metadata": {},
   "source": [
    "## For test"
   ]
  },
  {
   "cell_type": "code",
   "execution_count": 5,
   "metadata": {},
   "outputs": [
    {
     "data": {
      "text/plain": [
       "0.0"
      ]
     },
     "execution_count": 5,
     "metadata": {},
     "output_type": "execute_result"
    }
   ],
   "source": [
    "def compute_entropy(x):\n",
    "    \"\"\"\n",
    "    Given vector x, computes the entropy\n",
    "    H(x) = - sum( p * log(p))\n",
    "    \"\"\"\n",
    "    H = 0.0\n",
    "    for i in range(len(x)):\n",
    "        if 0 < x[i] < 1:\n",
    "            H -= x[i] * np.log(x[i])\n",
    "    return H\n",
    "\n",
    "compute_entropy([1, 2,3 , 4, 5, 6])"
   ]
  },
  {
   "cell_type": "markdown",
   "metadata": {},
   "source": [
    "## Keras"
   ]
  },
  {
   "cell_type": "code",
   "execution_count": null,
   "metadata": {},
   "outputs": [
    {
     "name": "stderr",
     "output_type": "stream",
     "text": [
      "WARNING: Logging before flag parsing goes to stderr.\n",
      "WARNING: Logging before flag parsing goes to stderr.\n",
      "WARNING: Logging before flag parsing goes to stderr.\n",
      "WARNING: Logging before flag parsing goes to stderr.\n",
      "WARNING: Logging before flag parsing goes to stderr.\n",
      "WARNING: Logging before flag parsing goes to stderr.\n",
      "WARNING: Logging before flag parsing goes to stderr.\n",
      "WARNING: Logging before flag parsing goes to stderr.\n",
      "WARNING: Logging before flag parsing goes to stderr.\n",
      "WARNING: Logging before flag parsing goes to stderr.\n",
      "WARNING: Logging before flag parsing goes to stderr.\n",
      "W0926 15:28:28.313043 140027077740352 deprecation.py:506] From /home/wangyu/miniconda3/envs/2019ML/lib/python3.6/site-packages/tensorflow/python/ops/init_ops.py:1251: calling VarianceScaling.__init__ (from tensorflow.python.ops.init_ops) with dtype is deprecated and will be removed in a future version.\n",
      "Instructions for updating:\n",
      "Call initializer instance with the dtype argument instead of passing it to the constructorWARNING: Logging before flag parsing goes to stderr.\n",
      "WARNING: Logging before flag parsing goes to stderr.\n",
      "WARNING: Logging before flag parsing goes to stderr.\n",
      "W0926 15:28:28.339706 140027077740352 deprecation.py:506] From /home/wangyu/miniconda3/envs/2019ML/lib/python3.6/site-packages/tensorflow/python/ops/init_ops.py:1251: calling VarianceScaling.__init__ (from tensorflow.python.ops.init_ops) with dtype is deprecated and will be removed in a future version.\n",
      "Instructions for updating:\n",
      "Call initializer instance with the dtype argument instead of passing it to the constructorW0926 15:28:28.356600 140027077740352 deprecation.py:506] From /home/wangyu/miniconda3/envs/2019ML/lib/python3.6/site-packages/tensorflow/python/ops/init_ops.py:1251: calling VarianceScaling.__init__ (from tensorflow.python.ops.init_ops) with dtype is deprecated and will be removed in a future version.\n",
      "Instructions for updating:\n",
      "Call initializer instance with the dtype argument instead of passing it to the constructorW0926 15:28:28.360060 140027077740352 deprecation.py:506] From /home/wangyu/miniconda3/envs/2019ML/lib/python3.6/site-packages/tensorflow/python/ops/init_ops.py:1251: calling VarianceScaling.__init__ (from tensorflow.python.ops.init_ops) with dtype is deprecated and will be removed in a future version.\n",
      "Instructions for updating:\n",
      "Call initializer instance with the dtype argument instead of passing it to the constructorW0926 15:28:28.324657 140027077740352 deprecation.py:506] From /home/wangyu/miniconda3/envs/2019ML/lib/python3.6/site-packages/tensorflow/python/ops/init_ops.py:1251: calling VarianceScaling.__init__ (from tensorflow.python.ops.init_ops) with dtype is deprecated and will be removed in a future version.\n",
      "Instructions for updating:\n",
      "Call initializer instance with the dtype argument instead of passing it to the constructor\n",
      "W0926 15:28:28.323101 140027077740352 deprecation.py:506] From /home/wangyu/miniconda3/envs/2019ML/lib/python3.6/site-packages/tensorflow/python/ops/init_ops.py:1251: calling VarianceScaling.__init__ (from tensorflow.python.ops.init_ops) with dtype is deprecated and will be removed in a future version.\n",
      "Instructions for updating:\n",
      "Call initializer instance with the dtype argument instead of passing it to the constructorW0926 15:28:28.342750 140027077740352 deprecation.py:506] From /home/wangyu/miniconda3/envs/2019ML/lib/python3.6/site-packages/tensorflow/python/ops/init_ops.py:1251: calling VarianceScaling.__init__ (from tensorflow.python.ops.init_ops) with dtype is deprecated and will be removed in a future version.\n",
      "Instructions for updating:\n",
      "Call initializer instance with the dtype argument instead of passing it to the constructorW0926 15:28:28.346107 140027077740352 deprecation.py:506] From /home/wangyu/miniconda3/envs/2019ML/lib/python3.6/site-packages/tensorflow/python/ops/init_ops.py:1251: calling VarianceScaling.__init__ (from tensorflow.python.ops.init_ops) with dtype is deprecated and will be removed in a future version.\n",
      "Instructions for updating:\n",
      "Call initializer instance with the dtype argument instead of passing it to the constructorW0926 15:28:28.328698 140027077740352 deprecation.py:506] From /home/wangyu/miniconda3/envs/2019ML/lib/python3.6/site-packages/tensorflow/python/ops/init_ops.py:1251: calling VarianceScaling.__init__ (from tensorflow.python.ops.init_ops) with dtype is deprecated and will be removed in a future version.\n",
      "Instructions for updating:\n",
      "Call initializer instance with the dtype argument instead of passing it to the constructorW0926 15:28:28.370190 140027077740352 deprecation.py:506] From /home/wangyu/miniconda3/envs/2019ML/lib/python3.6/site-packages/tensorflow/python/ops/init_ops.py:1251: calling VarianceScaling.__init__ (from tensorflow.python.ops.init_ops) with dtype is deprecated and will be removed in a future version.\n",
      "Instructions for updating:\n",
      "Call initializer instance with the dtype argument instead of passing it to the constructorW0926 15:28:28.349320 140027077740352 deprecation.py:506] From /home/wangyu/miniconda3/envs/2019ML/lib/python3.6/site-packages/tensorflow/python/ops/init_ops.py:1251: calling VarianceScaling.__init__ (from tensorflow.python.ops.init_ops) with dtype is deprecated and will be removed in a future version.\n",
      "Instructions for updating:\n",
      "Call initializer instance with the dtype argument instead of passing it to the constructorWARNING: Logging before flag parsing goes to stderr.\n",
      "WARNING: Logging before flag parsing goes to stderr.\n",
      "W0926 15:28:28.335995 140027077740352 deprecation.py:506] From /home/wangyu/miniconda3/envs/2019ML/lib/python3.6/site-packages/tensorflow/python/ops/init_ops.py:1251: calling VarianceScaling.__init__ (from tensorflow.python.ops.init_ops) with dtype is deprecated and will be removed in a future version.\n",
      "Instructions for updating:\n",
      "Call initializer instance with the dtype argument instead of passing it to the constructorW0926 15:28:28.332504 140027077740352 deprecation.py:506] From /home/wangyu/miniconda3/envs/2019ML/lib/python3.6/site-packages/tensorflow/python/ops/init_ops.py:1251: calling VarianceScaling.__init__ (from tensorflow.python.ops.init_ops) with dtype is deprecated and will be removed in a future version.\n",
      "Instructions for updating:\n",
      "Call initializer instance with the dtype argument instead of passing it to the constructorW0926 15:28:28.319446 140027077740352 deprecation.py:506] From /home/wangyu/miniconda3/envs/2019ML/lib/python3.6/site-packages/tensorflow/python/ops/init_ops.py:1251: calling VarianceScaling.__init__ (from tensorflow.python.ops.init_ops) with dtype is deprecated and will be removed in a future version.\n",
      "Instructions for updating:\n",
      "Call initializer instance with the dtype argument instead of passing it to the constructorW0926 15:28:28.367171 140027077740352 deprecation.py:506] From /home/wangyu/miniconda3/envs/2019ML/lib/python3.6/site-packages/tensorflow/python/ops/init_ops.py:1251: calling VarianceScaling.__init__ (from tensorflow.python.ops.init_ops) with dtype is deprecated and will be removed in a future version.\n",
      "Instructions for updating:\n",
      "Call initializer instance with the dtype argument instead of passing it to the constructor\n",
      "\n",
      "\n",
      "\n",
      "\n",
      "\n",
      "WARNING: Logging before flag parsing goes to stderr.\n",
      "\n",
      "\n",
      "\n",
      "\n",
      "\n",
      "W0926 15:28:28.353105 140027077740352 deprecation.py:506] From /home/wangyu/miniconda3/envs/2019ML/lib/python3.6/site-packages/tensorflow/python/ops/init_ops.py:1251: calling VarianceScaling.__init__ (from tensorflow.python.ops.init_ops) with dtype is deprecated and will be removed in a future version.\n",
      "Instructions for updating:\n",
      "Call initializer instance with the dtype argument instead of passing it to the constructor\n",
      "\n",
      "\n",
      "W0926 15:28:28.363633 140027077740352 deprecation.py:506] From /home/wangyu/miniconda3/envs/2019ML/lib/python3.6/site-packages/tensorflow/python/ops/init_ops.py:1251: calling VarianceScaling.__init__ (from tensorflow.python.ops.init_ops) with dtype is deprecated and will be removed in a future version.\n",
      "Instructions for updating:\n",
      "Call initializer instance with the dtype argument instead of passing it to the constructor\n",
      "\n",
      "W0926 15:28:33.691040 140027077740352 deprecation.py:506] From /home/wangyu/miniconda3/envs/2019ML/lib/python3.6/site-packages/tensorflow/python/training/rmsprop.py:119: calling Ones.__init__ (from tensorflow.python.ops.init_ops) with dtype is deprecated and will be removed in a future version.\n",
      "Instructions for updating:\n",
      "Call initializer instance with the dtype argument instead of passing it to the constructorW0926 15:28:33.698827 140027077740352 deprecation.py:506] From /home/wangyu/miniconda3/envs/2019ML/lib/python3.6/site-packages/tensorflow/python/training/rmsprop.py:119: calling Ones.__init__ (from tensorflow.python.ops.init_ops) with dtype is deprecated and will be removed in a future version.\n",
      "Instructions for updating:\n",
      "Call initializer instance with the dtype argument instead of passing it to the constructorW0926 15:28:33.706830 140027077740352 deprecation.py:506] From /home/wangyu/miniconda3/envs/2019ML/lib/python3.6/site-packages/tensorflow/python/training/rmsprop.py:119: calling Ones.__init__ (from tensorflow.python.ops.init_ops) with dtype is deprecated and will be removed in a future version.\n",
      "Instructions for updating:\n",
      "Call initializer instance with the dtype argument instead of passing it to the constructorW0926 15:28:33.709407 140027077740352 deprecation.py:506] From /home/wangyu/miniconda3/envs/2019ML/lib/python3.6/site-packages/tensorflow/python/training/rmsprop.py:119: calling Ones.__init__ (from tensorflow.python.ops.init_ops) with dtype is deprecated and will be removed in a future version.\n",
      "Instructions for updating:\n",
      "Call initializer instance with the dtype argument instead of passing it to the constructorW0926 15:28:33.712088 140027077740352 deprecation.py:506] From /home/wangyu/miniconda3/envs/2019ML/lib/python3.6/site-packages/tensorflow/python/training/rmsprop.py:119: calling Ones.__init__ (from tensorflow.python.ops.init_ops) with dtype is deprecated and will be removed in a future version.\n",
      "Instructions for updating:\n",
      "Call initializer instance with the dtype argument instead of passing it to the constructorW0926 15:28:33.715212 140027077740352 deprecation.py:506] From /home/wangyu/miniconda3/envs/2019ML/lib/python3.6/site-packages/tensorflow/python/training/rmsprop.py:119: calling Ones.__init__ (from tensorflow.python.ops.init_ops) with dtype is deprecated and will be removed in a future version.\n",
      "Instructions for updating:\n",
      "Call initializer instance with the dtype argument instead of passing it to the constructorW0926 15:28:33.717830 140027077740352 deprecation.py:506] From /home/wangyu/miniconda3/envs/2019ML/lib/python3.6/site-packages/tensorflow/python/training/rmsprop.py:119: calling Ones.__init__ (from tensorflow.python.ops.init_ops) with dtype is deprecated and will be removed in a future version.\n",
      "Instructions for updating:\n",
      "Call initializer instance with the dtype argument instead of passing it to the constructorW0926 15:28:33.724113 140027077740352 deprecation.py:506] From /home/wangyu/miniconda3/envs/2019ML/lib/python3.6/site-packages/tensorflow/python/training/rmsprop.py:119: calling Ones.__init__ (from tensorflow.python.ops.init_ops) with dtype is deprecated and will be removed in a future version.\n",
      "Instructions for updating:\n",
      "Call initializer instance with the dtype argument instead of passing it to the constructorW0926 15:28:33.733609 140027077740352 deprecation.py:506] From /home/wangyu/miniconda3/envs/2019ML/lib/python3.6/site-packages/tensorflow/python/training/rmsprop.py:119: calling Ones.__init__ (from tensorflow.python.ops.init_ops) with dtype is deprecated and will be removed in a future version.\n",
      "Instructions for updating:\n",
      "Call initializer instance with the dtype argument instead of passing it to the constructorW0926 15:28:33.721898 140027077740352 deprecation.py:506] From /home/wangyu/miniconda3/envs/2019ML/lib/python3.6/site-packages/tensorflow/python/training/rmsprop.py:119: calling Ones.__init__ (from tensorflow.python.ops.init_ops) with dtype is deprecated and will be removed in a future version.\n",
      "Instructions for updating:\n",
      "Call initializer instance with the dtype argument instead of passing it to the constructorW0926 15:28:33.735465 140027077740352 deprecation.py:506] From /home/wangyu/miniconda3/envs/2019ML/lib/python3.6/site-packages/tensorflow/python/training/rmsprop.py:119: calling Ones.__init__ (from tensorflow.python.ops.init_ops) with dtype is deprecated and will be removed in a future version.\n",
      "Instructions for updating:\n",
      "Call initializer instance with the dtype argument instead of passing it to the constructorW0926 15:28:33.737261 140027077740352 deprecation.py:506] From /home/wangyu/miniconda3/envs/2019ML/lib/python3.6/site-packages/tensorflow/python/training/rmsprop.py:119: calling Ones.__init__ (from tensorflow.python.ops.init_ops) with dtype is deprecated and will be removed in a future version.\n",
      "Instructions for updating:\n",
      "Call initializer instance with the dtype argument instead of passing it to the constructorW0926 15:28:33.688008 140027077740352 deprecation.py:506] From /home/wangyu/miniconda3/envs/2019ML/lib/python3.6/site-packages/tensorflow/python/training/rmsprop.py:119: calling Ones.__init__ (from tensorflow.python.ops.init_ops) with dtype is deprecated and will be removed in a future version.\n",
      "Instructions for updating:\n",
      "Call initializer instance with the dtype argument instead of passing it to the constructor\n",
      "\n",
      "\n",
      "\n",
      "\n",
      "\n",
      "\n",
      "W0926 15:28:33.742288 140027077740352 deprecation.py:506] From /home/wangyu/miniconda3/envs/2019ML/lib/python3.6/site-packages/tensorflow/python/training/rmsprop.py:119: calling Ones.__init__ (from tensorflow.python.ops.init_ops) with dtype is deprecated and will be removed in a future version.\n",
      "Instructions for updating:\n",
      "Call initializer instance with the dtype argument instead of passing it to the constructorW0926 15:28:33.745282 140027077740352 deprecation.py:506] From /home/wangyu/miniconda3/envs/2019ML/lib/python3.6/site-packages/tensorflow/python/training/rmsprop.py:119: calling Ones.__init__ (from tensorflow.python.ops.init_ops) with dtype is deprecated and will be removed in a future version.\n",
      "Instructions for updating:\n",
      "Call initializer instance with the dtype argument instead of passing it to the constructor\n",
      "W0926 15:28:33.748262 140027077740352 deprecation.py:506] From /home/wangyu/miniconda3/envs/2019ML/lib/python3.6/site-packages/tensorflow/python/training/rmsprop.py:119: calling Ones.__init__ (from tensorflow.python.ops.init_ops) with dtype is deprecated and will be removed in a future version.\n",
      "Instructions for updating:\n",
      "Call initializer instance with the dtype argument instead of passing it to the constructor\n",
      "\n",
      "\n",
      "\n",
      "\n",
      "\n",
      "\n",
      "\n",
      "W0926 15:28:33.894705 140027077740352 deprecation.py:506] From /home/wangyu/miniconda3/envs/2019ML/lib/python3.6/site-packages/tensorflow/python/training/rmsprop.py:119: calling Ones.__init__ (from tensorflow.python.ops.init_ops) with dtype is deprecated and will be removed in a future version.\n",
      "Instructions for updating:\n",
      "Call initializer instance with the dtype argument instead of passing it to the constructor\n",
      "W0926 15:28:48.453885 140027077740352 deprecation_wrapper.py:119] From /home/wangyu/conda_project/webrtc2019/sim/multi_agent.py:91: The name tf.summary.FileWriter is deprecated. Please use tf.compat.v1.summary.FileWriter instead.\n",
      "\n",
      "W0926 15:45:49.749939 140027077740352 deprecation.py:323] From /home/wangyu/miniconda3/envs/2019ML/lib/python3.6/site-packages/tensorflow/python/training/saver.py:960: remove_checkpoint (from tensorflow.python.training.checkpoint_management) is deprecated and will be removed in a future version.\n",
      "Instructions for updating:\n",
      "Use standard file APIs to delete files with this prefix.\n"
     ]
    }
   ],
   "source": [
    "import multi_agent\n",
    "multi_agent.main()"
   ]
  },
  {
   "cell_type": "markdown",
   "metadata": {},
   "source": [
    "## Fairness"
   ]
  },
  {
   "cell_type": "code",
   "execution_count": null,
   "metadata": {},
   "outputs": [],
   "source": [
    "import iiemb_of_cluster_head()"
   ]
  },
  {
   "cell_type": "code",
   "execution_count": null,
   "metadata": {},
   "outputs": [],
   "source": [
    "f = e.fairness([5, 2, 3, 4, 5], [1, 2, 3, 4, 5])\n",
    "print(f)\n",
    "print(1-f)\n",
    "print(5*(1-f))"
   ]
  },
  {
   "cell_type": "markdown",
   "metadata": {},
   "source": [
    "## Env"
   ]
  },
  {
   "cell_type": "code",
   "execution_count": null,
   "metadata": {},
   "outputs": [],
   "source": [
    "import env\n",
    "e = env.Environment()"
   ]
  },
  {
   "cell_type": "code",
   "execution_count": null,
   "metadata": {},
   "outputs": [],
   "source": [
    "for i in range(100000):\n",
    "    r = e.get_remb_of_cluster_head()\n",
    "#     print(r)\n",
    "    b = r\n",
    "    e.set_bitrate_of_streams(b)"
   ]
  }
 ],
 "metadata": {
  "kernelspec": {
   "display_name": "Python 3",
   "language": "python",
   "name": "python3"
  },
  "language_info": {
   "codemirror_mode": {
    "name": "ipython",
    "version": 3
   },
   "file_extension": ".py",
   "mimetype": "text/x-python",
   "name": "python",
   "nbconvert_exporter": "python",
   "pygments_lexer": "ipython3",
   "version": "3.6.8"
  }
 },
 "nbformat": 4,
 "nbformat_minor": 4
}
