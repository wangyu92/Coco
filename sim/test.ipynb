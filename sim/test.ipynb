{
 "cells": [
  {
   "cell_type": "markdown",
   "metadata": {},
   "source": [
    "## TFLearn"
   ]
  },
  {
   "cell_type": "code",
   "execution_count": null,
   "metadata": {},
   "outputs": [],
   "source": [
    "import multi_agent\n",
    "multi_agent.main()"
   ]
  },
  {
   "cell_type": "markdown",
   "metadata": {},
   "source": [
    "## Keras"
   ]
  },
  {
   "cell_type": "code",
   "execution_count": 1,
   "metadata": {},
   "outputs": [
    {
     "name": "stderr",
     "output_type": "stream",
     "text": [
      "WARNING: Logging before flag parsing goes to stderr.\n",
      "W0918 23:09:34.745833 140386325948224 deprecation_wrapper.py:119] From /home/wangyu/conda_project/webrtc2019/sim/multi_agent_keras.py:88: The name tf.Session is deprecated. Please use tf.compat.v1.Session instead.\n",
      "\n",
      "WARNING: Logging before flag parsing goes to stderr.\n",
      "W0918 23:09:34.780224 140386325948224 deprecation_wrapper.py:119] From /home/wangyu/conda_project/webrtc2019/sim/multi_agent_keras.py:206: The name tf.Session is deprecated. Please use tf.compat.v1.Session instead.\n",
      "\n",
      "W0918 23:09:36.111641 140386325948224 deprecation_wrapper.py:119] From /home/wangyu/conda_project/webrtc2019/sim/a3c_keras.py:67: The name tf.variable_scope is deprecated. Please use tf.compat.v1.variable_scope instead.\n",
      "\n",
      "W0918 23:09:36.112944 140386325948224 deprecation_wrapper.py:119] From /home/wangyu/conda_project/webrtc2019/sim/a3c_keras.py:67: The name tf.variable_scope is deprecated. Please use tf.compat.v1.variable_scope instead.\n",
      "\n",
      "W0918 23:09:36.124312 140386325948224 deprecation.py:506] From /home/wangyu/miniconda3/lib/python3.7/site-packages/tensorflow/python/ops/init_ops.py:1251: calling VarianceScaling.__init__ (from tensorflow.python.ops.init_ops) with dtype is deprecated and will be removed in a future version.\n",
      "Instructions for updating:\n",
      "Call initializer instance with the dtype argument instead of passing it to the constructorW0918 23:09:36.125214 140386325948224 deprecation.py:506] From /home/wangyu/miniconda3/lib/python3.7/site-packages/tensorflow/python/ops/init_ops.py:1251: calling VarianceScaling.__init__ (from tensorflow.python.ops.init_ops) with dtype is deprecated and will be removed in a future version.\n",
      "Instructions for updating:\n",
      "Call initializer instance with the dtype argument instead of passing it to the constructor\n",
      "\n",
      "W0918 23:09:36.391459 140386325948224 deprecation_wrapper.py:119] From /home/wangyu/conda_project/webrtc2019/sim/a3c_keras.py:34: The name tf.get_collection is deprecated. Please use tf.compat.v1.get_collection instead.\n",
      "W0918 23:09:36.391804 140386325948224 deprecation_wrapper.py:119] From /home/wangyu/conda_project/webrtc2019/sim/a3c_keras.py:34: The name tf.get_collection is deprecated. Please use tf.compat.v1.get_collection instead.\n",
      "\n",
      "\n",
      "W0918 23:09:36.393076 140386325948224 deprecation_wrapper.py:119] From /home/wangyu/conda_project/webrtc2019/sim/a3c_keras.py:34: The name tf.GraphKeys is deprecated. Please use tf.compat.v1.GraphKeys instead.\n",
      "W0918 23:09:36.393443 140386325948224 deprecation_wrapper.py:119] From /home/wangyu/conda_project/webrtc2019/sim/a3c_keras.py:34: The name tf.GraphKeys is deprecated. Please use tf.compat.v1.GraphKeys instead.\n",
      "\n",
      "\n",
      "W0918 23:09:36.394478 140386325948224 deprecation_wrapper.py:119] From /home/wangyu/conda_project/webrtc2019/sim/a3c_keras.py:40: The name tf.placeholder is deprecated. Please use tf.compat.v1.placeholder instead.\n",
      "W0918 23:09:36.394794 140386325948224 deprecation_wrapper.py:119] From /home/wangyu/conda_project/webrtc2019/sim/a3c_keras.py:40: The name tf.placeholder is deprecated. Please use tf.compat.v1.placeholder instead.\n",
      "\n",
      "\n",
      "W0918 23:09:36.410502 140386325948224 deprecation.py:506] From /home/wangyu/conda_project/webrtc2019/sim/a3c_keras.py:54: calling reduce_sum_v1 (from tensorflow.python.ops.math_ops) with keep_dims is deprecated and will be removed in a future version.\n",
      "Instructions for updating:\n",
      "keep_dims is deprecated, use keepdims insteadW0918 23:09:36.411043 140386325948224 deprecation.py:506] From /home/wangyu/conda_project/webrtc2019/sim/a3c_keras.py:54: calling reduce_sum_v1 (from tensorflow.python.ops.math_ops) with keep_dims is deprecated and will be removed in a future version.\n",
      "Instructions for updating:\n",
      "keep_dims is deprecated, use keepdims instead\n",
      "\n",
      "W0918 23:09:36.470023 140386325948224 deprecation_wrapper.py:119] From /home/wangyu/conda_project/webrtc2019/sim/a3c_keras.py:63: The name tf.train.RMSPropOptimizer is deprecated. Please use tf.compat.v1.train.RMSPropOptimizer instead.\n",
      "\n",
      "W0918 23:09:36.471657 140386325948224 deprecation.py:506] From /home/wangyu/miniconda3/lib/python3.7/site-packages/tensorflow/python/training/rmsprop.py:119: calling Ones.__init__ (from tensorflow.python.ops.init_ops) with dtype is deprecated and will be removed in a future version.\n",
      "Instructions for updating:\n",
      "Call initializer instance with the dtype argument instead of passing it to the constructor\n",
      "W0918 23:09:36.489317 140386325948224 deprecation_wrapper.py:119] From /home/wangyu/conda_project/webrtc2019/sim/a3c_keras.py:63: The name tf.train.RMSPropOptimizer is deprecated. Please use tf.compat.v1.train.RMSPropOptimizer instead.\n",
      "\n",
      "W0918 23:09:36.490907 140386325948224 deprecation.py:506] From /home/wangyu/miniconda3/lib/python3.7/site-packages/tensorflow/python/training/rmsprop.py:119: calling Ones.__init__ (from tensorflow.python.ops.init_ops) with dtype is deprecated and will be removed in a future version.\n",
      "Instructions for updating:\n",
      "Call initializer instance with the dtype argument instead of passing it to the constructor\n",
      "W0918 23:09:37.144229 140386325948224 deprecation_wrapper.py:119] From /home/wangyu/conda_project/webrtc2019/sim/a3c_keras.py:279: The name tf.summary.scalar is deprecated. Please use tf.compat.v1.summary.scalar instead.\n",
      "\n",
      "W0918 23:09:37.151327 140386325948224 deprecation_wrapper.py:119] From /home/wangyu/conda_project/webrtc2019/sim/a3c_keras.py:286: The name tf.summary.merge_all is deprecated. Please use tf.compat.v1.summary.merge_all instead.\n",
      "\n",
      "W0918 23:09:37.286533 140386325948224 deprecation_wrapper.py:119] From /home/wangyu/conda_project/webrtc2019/sim/multi_agent_keras.py:100: The name tf.summary.FileWriter is deprecated. Please use tf.compat.v1.summary.FileWriter instead.\n",
      "\n",
      "W0918 23:09:37.355362 140386325948224 deprecation_wrapper.py:119] From /home/wangyu/conda_project/webrtc2019/sim/multi_agent_keras.py:101: The name tf.train.Saver is deprecated. Please use tf.compat.v1.train.Saver instead.\n",
      "\n",
      "Process Process-1:\n",
      "Traceback (most recent call last):\n",
      "  File \"/home/wangyu/miniconda3/lib/python3.7/multiprocessing/process.py\", line 297, in _bootstrap\n",
      "    self.run()\n",
      "  File \"/home/wangyu/miniconda3/lib/python3.7/multiprocessing/process.py\", line 99, in run\n",
      "    self._target(*self._args, **self._kwargs)\n",
      "  File \"/home/wangyu/conda_project/webrtc2019/sim/multi_agent_keras.py\", line 199, in central_agent\n",
      "    test_log_file)\n",
      "  File \"/home/wangyu/conda_project/webrtc2019/sim/multi_agent_keras.py\", line 60, in testing\n",
      "    rewards_min = np.min(rewards)\n",
      "  File \"/home/wangyu/miniconda3/lib/python3.7/site-packages/numpy/core/fromnumeric.py\", line 2442, in amin\n",
      "    initial=initial)\n",
      "  File \"/home/wangyu/miniconda3/lib/python3.7/site-packages/numpy/core/fromnumeric.py\", line 83, in _wrapreduction\n",
      "    return ufunc.reduce(obj, axis, dtype, out, **passkwargs)\n",
      "ValueError: zero-size array to reduction operation minimum which has no identity\n"
     ]
    }
   ],
   "source": [
    "import multi_agent_keras\n",
    "multi_agent_keras.main()"
   ]
  },
  {
   "cell_type": "markdown",
   "metadata": {},
   "source": [
    "## Fairness"
   ]
  },
  {
   "cell_type": "code",
   "execution_count": null,
   "metadata": {},
   "outputs": [],
   "source": [
    "import env\n",
    "e = env.Environment()\n",
    "e.get_remb_of_cluster_head()"
   ]
  },
  {
   "cell_type": "code",
   "execution_count": null,
   "metadata": {},
   "outputs": [],
   "source": [
    "f = e.fairness([5, 2, 3, 4, 5], [1, 2, 3, 4, 5])\n",
    "print(f)\n",
    "print(1-f)\n",
    "print(5*(1-f))"
   ]
  },
  {
   "cell_type": "markdown",
   "metadata": {},
   "source": [
    "## Env"
   ]
  },
  {
   "cell_type": "code",
   "execution_count": null,
   "metadata": {},
   "outputs": [],
   "source": [
    "import env\n",
    "e = env.Environment()"
   ]
  },
  {
   "cell_type": "code",
   "execution_count": null,
   "metadata": {},
   "outputs": [],
   "source": [
    "for i in range(100000):\n",
    "    r = e.get_remb_of_cluster_head()\n",
    "#     print(r)\n",
    "    b = r\n",
    "    e.set_bitrate_of_streams(b)"
   ]
  }
 ],
 "metadata": {
  "kernelspec": {
   "display_name": "Python 3",
   "language": "python",
   "name": "python3"
  },
  "language_info": {
   "codemirror_mode": {
    "name": "ipython",
    "version": 3
   },
   "file_extension": ".py",
   "mimetype": "text/x-python",
   "name": "python",
   "nbconvert_exporter": "python",
   "pygments_lexer": "ipython3",
   "version": "3.7.1"
  }
 },
 "nbformat": 4,
 "nbformat_minor": 2
}
