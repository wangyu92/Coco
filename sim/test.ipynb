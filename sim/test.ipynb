{
 "cells": [
  {
   "cell_type": "code",
   "execution_count": 1,
   "metadata": {},
   "outputs": [
    {
     "name": "stderr",
     "output_type": "stream",
     "text": [
      "WARNING: Logging before flag parsing goes to stderr.\n",
      "W0910 13:56:31.685681 140576651110208 deprecation_wrapper.py:119] From /home/wangyu/miniconda3/lib/python3.7/site-packages/tflearn/helpers/summarizer.py:9: The name tf.summary.merge is deprecated. Please use tf.compat.v1.summary.merge instead.\n",
      "\n",
      "W0910 13:56:31.687205 140576651110208 deprecation_wrapper.py:119] From /home/wangyu/miniconda3/lib/python3.7/site-packages/tflearn/helpers/trainer.py:25: The name tf.summary.FileWriter is deprecated. Please use tf.compat.v1.summary.FileWriter instead.\n",
      "\n",
      "W0910 13:56:31.691548 140576651110208 deprecation_wrapper.py:119] From /home/wangyu/miniconda3/lib/python3.7/site-packages/tflearn/collections.py:13: The name tf.GraphKeys is deprecated. Please use tf.compat.v1.GraphKeys instead.\n",
      "\n",
      "W0910 13:56:31.694275 140576651110208 deprecation_wrapper.py:119] From /home/wangyu/miniconda3/lib/python3.7/site-packages/tflearn/config.py:123: The name tf.get_collection is deprecated. Please use tf.compat.v1.get_collection instead.\n",
      "\n",
      "W0910 13:56:31.698494 140576651110208 deprecation_wrapper.py:119] From /home/wangyu/miniconda3/lib/python3.7/site-packages/tflearn/config.py:129: The name tf.add_to_collection is deprecated. Please use tf.compat.v1.add_to_collection instead.\n",
      "\n",
      "W0910 13:56:31.699095 140576651110208 deprecation_wrapper.py:119] From /home/wangyu/miniconda3/lib/python3.7/site-packages/tflearn/config.py:131: The name tf.assign is deprecated. Please use tf.compat.v1.assign instead.\n",
      "\n"
     ]
    }
   ],
   "source": [
    "import env\n",
    "import multi_agent"
   ]
  },
  {
   "cell_type": "code",
   "execution_count": 2,
   "metadata": {},
   "outputs": [
    {
     "name": "stdout",
     "output_type": "stream",
     "text": [
      "1.0\n"
     ]
    }
   ],
   "source": [
    "def fairness(streams, rembs):\n",
    "    frac = []\n",
    "    for i in range(len(streams)):\n",
    "        frac.append(streams[i] / rembs[i])\n",
    "        \n",
    "    a = sum(frac) ** 2\n",
    "    b = len(frac) * sum(list(map(lambda x: x**2, frac)))\n",
    "    \n",
    "    return a / b\n",
    "\n",
    "print(fairness([1, 2, 3], [10, 20, 30]))"
   ]
  },
  {
   "cell_type": "code",
   "execution_count": 3,
   "metadata": {},
   "outputs": [
    {
     "name": "stdout",
     "output_type": "stream",
     "text": [
      "4500\n"
     ]
    }
   ],
   "source": [
    "def hardware(streams):\n",
    "    v = sum(streams)\n",
    "    print(v)\n",
    "    \n",
    "hardware([1000, 2000, 1500])"
   ]
  },
  {
   "cell_type": "code",
   "execution_count": 4,
   "metadata": {},
   "outputs": [
    {
     "name": "stderr",
     "output_type": "stream",
     "text": [
      "W0910 13:56:31.754548 140576651110208 deprecation_wrapper.py:119] From /home/wangyu/conda_project/webrtc2019/sim/multi_agent.py:91: The name tf.Session is deprecated. Please use tf.compat.v1.Session instead.\n",
      "\n",
      "Process Process-2:\n",
      "Process Process-3:\n",
      "  File \"/home/wangyu/conda_project/webrtc2019/sim/multi_agent.py\", line 207, in agent\n",
      "    net_env = env.Environment(all_cooked_time=all_cooked_time,\n",
      "Traceback (most recent call last):\n",
      "Traceback (most recent call last):\n",
      "  File \"/home/wangyu/miniconda3/lib/python3.7/multiprocessing/process.py\", line 297, in _bootstrap\n",
      "    self.run()\n",
      "  File \"/home/wangyu/miniconda3/lib/python3.7/multiprocessing/process.py\", line 99, in run\n",
      "    self._target(*self._args, **self._kwargs)\n",
      "Traceback (most recent call last):\n",
      "Process Process-4:\n",
      "  File \"/home/wangyu/miniconda3/lib/python3.7/multiprocessing/process.py\", line 297, in _bootstrap\n",
      "    self.run()\n",
      "NameError: name 'all_cooked_time' is not defined\n",
      "  File \"/home/wangyu/miniconda3/lib/python3.7/multiprocessing/process.py\", line 99, in run\n",
      "    self._target(*self._args, **self._kwargs)\n",
      "  File \"/home/wangyu/miniconda3/lib/python3.7/multiprocessing/process.py\", line 297, in _bootstrap\n",
      "    self.run()\n",
      "  File \"/home/wangyu/miniconda3/lib/python3.7/multiprocessing/process.py\", line 99, in run\n",
      "    self._target(*self._args, **self._kwargs)\n",
      "  File \"/home/wangyu/conda_project/webrtc2019/sim/multi_agent.py\", line 207, in agent\n",
      "    net_env = env.Environment(all_cooked_time=all_cooked_time,\n",
      "Process Process-5:\n",
      "  File \"/home/wangyu/conda_project/webrtc2019/sim/multi_agent.py\", line 207, in agent\n",
      "    net_env = env.Environment(all_cooked_time=all_cooked_time,\n",
      "NameError: name 'all_cooked_time' is not defined\n",
      "NameError: name 'all_cooked_time' is not defined\n",
      "Traceback (most recent call last):\n",
      "  File \"/home/wangyu/miniconda3/lib/python3.7/multiprocessing/process.py\", line 297, in _bootstrap\n",
      "    self.run()\n",
      "  File \"/home/wangyu/miniconda3/lib/python3.7/multiprocessing/process.py\", line 99, in run\n",
      "    self._target(*self._args, **self._kwargs)\n",
      "Process Process-6:\n",
      "  File \"/home/wangyu/conda_project/webrtc2019/sim/multi_agent.py\", line 207, in agent\n",
      "    net_env = env.Environment(all_cooked_time=all_cooked_time,\n",
      "NameError: name 'all_cooked_time' is not defined\n",
      "Traceback (most recent call last):\n",
      "  File \"/home/wangyu/miniconda3/lib/python3.7/multiprocessing/process.py\", line 297, in _bootstrap\n",
      "    self.run()\n",
      "Process Process-7:\n",
      "  File \"/home/wangyu/miniconda3/lib/python3.7/multiprocessing/process.py\", line 99, in run\n",
      "    self._target(*self._args, **self._kwargs)\n",
      "  File \"/home/wangyu/conda_project/webrtc2019/sim/multi_agent.py\", line 207, in agent\n",
      "    net_env = env.Environment(all_cooked_time=all_cooked_time,\n",
      "Traceback (most recent call last):\n",
      "NameError: name 'all_cooked_time' is not defined\n",
      "Process Process-8:\n",
      "  File \"/home/wangyu/miniconda3/lib/python3.7/multiprocessing/process.py\", line 297, in _bootstrap\n",
      "    self.run()\n",
      "  File \"/home/wangyu/miniconda3/lib/python3.7/multiprocessing/process.py\", line 99, in run\n",
      "    self._target(*self._args, **self._kwargs)\n",
      "Traceback (most recent call last):\n",
      "  File \"/home/wangyu/conda_project/webrtc2019/sim/multi_agent.py\", line 207, in agent\n",
      "    net_env = env.Environment(all_cooked_time=all_cooked_time,\n",
      "  File \"/home/wangyu/miniconda3/lib/python3.7/multiprocessing/process.py\", line 297, in _bootstrap\n",
      "    self.run()\n",
      "Process Process-9:\n",
      "NameError: name 'all_cooked_time' is not defined\n",
      "  File \"/home/wangyu/miniconda3/lib/python3.7/multiprocessing/process.py\", line 99, in run\n",
      "    self._target(*self._args, **self._kwargs)\n",
      "  File \"/home/wangyu/conda_project/webrtc2019/sim/multi_agent.py\", line 207, in agent\n",
      "    net_env = env.Environment(all_cooked_time=all_cooked_time,\n",
      "Traceback (most recent call last):\n",
      "NameError: name 'all_cooked_time' is not defined\n",
      "  File \"/home/wangyu/miniconda3/lib/python3.7/multiprocessing/process.py\", line 297, in _bootstrap\n",
      "    self.run()\n",
      "Process Process-10:\n",
      "  File \"/home/wangyu/miniconda3/lib/python3.7/multiprocessing/process.py\", line 99, in run\n",
      "    self._target(*self._args, **self._kwargs)\n",
      "  File \"/home/wangyu/conda_project/webrtc2019/sim/multi_agent.py\", line 207, in agent\n",
      "    net_env = env.Environment(all_cooked_time=all_cooked_time,\n",
      "Traceback (most recent call last):\n",
      "NameError: name 'all_cooked_time' is not defined\n",
      "  File \"/home/wangyu/miniconda3/lib/python3.7/multiprocessing/process.py\", line 297, in _bootstrap\n",
      "    self.run()\n",
      "W0910 13:56:31.832776 140576651110208 deprecation.py:506] From /home/wangyu/miniconda3/lib/python3.7/site-packages/tflearn/initializations.py:119: calling UniformUnitScaling.__init__ (from tensorflow.python.ops.init_ops) with dtype is deprecated and will be removed in a future version.\n",
      "Instructions for updating:\n",
      "Call initializer instance with the dtype argument instead of passing it to the constructor  File \"/home/wangyu/miniconda3/lib/python3.7/multiprocessing/process.py\", line 99, in run\n",
      "    self._target(*self._args, **self._kwargs)\n",
      "\n",
      "  File \"/home/wangyu/conda_project/webrtc2019/sim/multi_agent.py\", line 207, in agent\n",
      "    net_env = env.Environment(all_cooked_time=all_cooked_time,\n",
      "W0910 13:56:31.834552 140576651110208 deprecation.py:323] From /home/wangyu/miniconda3/lib/python3.7/site-packages/tensorflow/python/util/deprecation.py:507: UniformUnitScaling.__init__ (from tensorflow.python.ops.init_ops) is deprecated and will be removed in a future version.\n",
      "Instructions for updating:\n",
      "Use tf.initializers.variance_scaling instead with distribution=uniform to get equivalent behavior.\n",
      "NameError: name 'all_cooked_time' is not defined\n",
      "Process Process-11:\n",
      "Traceback (most recent call last):\n",
      "  File \"/home/wangyu/miniconda3/lib/python3.7/multiprocessing/process.py\", line 297, in _bootstrap\n",
      "    self.run()\n",
      "  File \"/home/wangyu/miniconda3/lib/python3.7/multiprocessing/process.py\", line 99, in run\n",
      "    self._target(*self._args, **self._kwargs)\n",
      "  File \"/home/wangyu/conda_project/webrtc2019/sim/multi_agent.py\", line 207, in agent\n",
      "    net_env = env.Environment(all_cooked_time=all_cooked_time,\n",
      "NameError: name 'all_cooked_time' is not defined\n",
      "Process Process-15:\n",
      "Traceback (most recent call last):\n",
      "Process Process-16:\n",
      "  File \"/home/wangyu/miniconda3/lib/python3.7/multiprocessing/process.py\", line 297, in _bootstrap\n",
      "    self.run()\n",
      "Process Process-12:\n",
      "Process Process-13:\n",
      "Process Process-17:\n",
      "Process Process-14:\n",
      "  File \"/home/wangyu/miniconda3/lib/python3.7/multiprocessing/process.py\", line 99, in run\n",
      "    self._target(*self._args, **self._kwargs)\n",
      "Traceback (most recent call last):\n",
      "  File \"/home/wangyu/conda_project/webrtc2019/sim/multi_agent.py\", line 207, in agent\n",
      "    net_env = env.Environment(all_cooked_time=all_cooked_time,\n",
      "  File \"/home/wangyu/miniconda3/lib/python3.7/multiprocessing/process.py\", line 297, in _bootstrap\n",
      "    self.run()\n",
      "Traceback (most recent call last):\n",
      "Traceback (most recent call last):\n",
      "Traceback (most recent call last):\n",
      "Traceback (most recent call last):\n",
      "NameError: name 'all_cooked_time' is not defined\n",
      "  File \"/home/wangyu/miniconda3/lib/python3.7/multiprocessing/process.py\", line 99, in run\n",
      "    self._target(*self._args, **self._kwargs)\n",
      "  File \"/home/wangyu/miniconda3/lib/python3.7/multiprocessing/process.py\", line 297, in _bootstrap\n",
      "    self.run()\n",
      "  File \"/home/wangyu/miniconda3/lib/python3.7/multiprocessing/process.py\", line 297, in _bootstrap\n",
      "    self.run()\n",
      "  File \"/home/wangyu/miniconda3/lib/python3.7/multiprocessing/process.py\", line 297, in _bootstrap\n",
      "    self.run()\n",
      "  File \"/home/wangyu/miniconda3/lib/python3.7/multiprocessing/process.py\", line 297, in _bootstrap\n",
      "    self.run()\n",
      "  File \"/home/wangyu/conda_project/webrtc2019/sim/multi_agent.py\", line 207, in agent\n",
      "    net_env = env.Environment(all_cooked_time=all_cooked_time,\n",
      "  File \"/home/wangyu/miniconda3/lib/python3.7/multiprocessing/process.py\", line 99, in run\n",
      "    self._target(*self._args, **self._kwargs)\n",
      "  File \"/home/wangyu/miniconda3/lib/python3.7/multiprocessing/process.py\", line 99, in run\n",
      "    self._target(*self._args, **self._kwargs)\n",
      "  File \"/home/wangyu/miniconda3/lib/python3.7/multiprocessing/process.py\", line 99, in run\n",
      "    self._target(*self._args, **self._kwargs)\n",
      "NameError: name 'all_cooked_time' is not defined\n",
      "  File \"/home/wangyu/conda_project/webrtc2019/sim/multi_agent.py\", line 207, in agent\n",
      "    net_env = env.Environment(all_cooked_time=all_cooked_time,\n",
      "  File \"/home/wangyu/conda_project/webrtc2019/sim/multi_agent.py\", line 207, in agent\n",
      "    net_env = env.Environment(all_cooked_time=all_cooked_time,\n",
      "  File \"/home/wangyu/miniconda3/lib/python3.7/multiprocessing/process.py\", line 99, in run\n",
      "    self._target(*self._args, **self._kwargs)\n",
      "  File \"/home/wangyu/conda_project/webrtc2019/sim/multi_agent.py\", line 207, in agent\n",
      "    net_env = env.Environment(all_cooked_time=all_cooked_time,\n",
      "NameError: name 'all_cooked_time' is not defined\n",
      "NameError: name 'all_cooked_time' is not defined\n",
      "  File \"/home/wangyu/conda_project/webrtc2019/sim/multi_agent.py\", line 207, in agent\n",
      "    net_env = env.Environment(all_cooked_time=all_cooked_time,\n",
      "NameError: name 'all_cooked_time' is not defined\n",
      "NameError: name 'all_cooked_time' is not defined\n",
      "Process Process-1:\n",
      "Traceback (most recent call last):\n",
      "  File \"/home/wangyu/miniconda3/lib/python3.7/multiprocessing/process.py\", line 297, in _bootstrap\n",
      "    self.run()\n",
      "  File \"/home/wangyu/miniconda3/lib/python3.7/multiprocessing/process.py\", line 99, in run\n",
      "    self._target(*self._args, **self._kwargs)\n",
      "  File \"/home/wangyu/conda_project/webrtc2019/sim/multi_agent.py\", line 95, in central_agent\n",
      "    learning_rate=ACTOR_LR_RATE)\n",
      "  File \"/home/wangyu/conda_project/webrtc2019/sim/a3c.py\", line 31, in __init__\n",
      "    self.inputs, self.out = self.create_actor_network()\n",
      "  File \"/home/wangyu/conda_project/webrtc2019/sim/a3c.py\", line 76, in create_actor_network\n",
      "    split_2 = tflearn.fully_connected(inputs[:, 2:3, -1], 128, 4, activation='relu')\n",
      "TypeError: fully_connected() got multiple values for argument 'activation'\n"
     ]
    }
   ],
   "source": [
    "multi_agent.main()"
   ]
  },
  {
   "cell_type": "code",
   "execution_count": 5,
   "metadata": {},
   "outputs": [
    {
     "name": "stdout",
     "output_type": "stream",
     "text": [
      "CPU times: user 5 µs, sys: 4 µs, total: 9 µs\n",
      "Wall time: 12.6 µs\n",
      "179999999700000000\n"
     ]
    }
   ],
   "source": [
    "%time\n",
    "\n",
    "#63403380965376\n",
    "\n",
    "k = 0\n",
    "\n",
    "for i in range(0, 600000000):\n",
    "    k += i\n",
    "    \n",
    "print(k)"
   ]
  }
 ],
 "metadata": {
  "kernelspec": {
   "display_name": "Python 3",
   "language": "python",
   "name": "python3"
  },
  "language_info": {
   "codemirror_mode": {
    "name": "ipython",
    "version": 3
   },
   "file_extension": ".py",
   "mimetype": "text/x-python",
   "name": "python",
   "nbconvert_exporter": "python",
   "pygments_lexer": "ipython3",
   "version": "3.7.1"
  }
 },
 "nbformat": 4,
 "nbformat_minor": 2
}
