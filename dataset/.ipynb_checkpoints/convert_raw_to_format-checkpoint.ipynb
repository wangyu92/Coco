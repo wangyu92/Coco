{
 "cells": [
  {
   "cell_type": "code",
   "execution_count": 47,
   "metadata": {},
   "outputs": [],
   "source": [
    "import numpy as np\n",
    "import datetime\n",
    "import os"
   ]
  },
  {
   "cell_type": "code",
   "execution_count": 70,
   "metadata": {},
   "outputs": [
    {
     "name": "stdout",
     "output_type": "stream",
     "text": [
      "./raw/201811/curr_webget.csv\n",
      "./raw/201806/curr_webget.csv\n",
      "./raw/201810/curr_webget.csv\n",
      "./raw/201805/curr_webget.csv\n",
      "./raw/201803/curr_webget.csv\n",
      "./raw/201901/curr_webget.csv\n",
      "./raw/201809/curr_webget.csv\n",
      "./raw/201902/curr_webget.csv\n",
      "./raw/201808/curr_webget.csv\n",
      "./raw/201807/curr_webget.csv\n",
      "./raw/201812/curr_webget.csv\n",
      "./raw/201804/curr_webget.csv\n"
     ]
    }
   ],
   "source": [
    "RAW_DIR = './raw/'\n",
    "RAW_FILE = 'curr_webget.csv'\n",
    "OUTPUT_PATH = './cooked/'\n",
    "NUM_LINES = np.inf\n",
    "TIME_ORIGIN = datetime.datetime.utcfromtimestamp(0)\n",
    "\n",
    "def conver_raw_to_format(file_path, output_path, media_type=None):\n",
    "    bw_measurements = {}\n",
    "\n",
    "    line_counter = 0\n",
    "    with open(file_path, 'rb') as f:\n",
    "        for line in f:\n",
    "            if line_counter == 0:\n",
    "                line_counter += 1\n",
    "                continue\n",
    "            \n",
    "            line = line.decode()\n",
    "            parse = line.split(',')\n",
    "\n",
    "            uid = parse[0]\n",
    "            dtime = (datetime.datetime.strptime(parse[1], '%Y-%m-%d %H:%M:%S') - TIME_ORIGIN).total_seconds()\n",
    "            date = datetime.datetime.fromtimestamp(dtime).strftime(\"%Y%m\")\n",
    "            target = parse[2]\n",
    "            address = parse[3]\n",
    "            throughput = parse[6]\n",
    "\n",
    "            if media_type != None and not (media_type in target):\n",
    "                continue\n",
    "                \n",
    "            k = (date, uid, target)\n",
    "            if k in bw_measurements:\n",
    "                bw_measurements[k].append(throughput)\n",
    "            else:\n",
    "                bw_measurements[k] = [throughput]\n",
    "\n",
    "            line_counter += 1\n",
    "            if line_counter >= NUM_LINES:\n",
    "                break\n",
    "\n",
    "    for k in bw_measurements:\n",
    "        out_file = 'trace_' + '_'.join(k)\n",
    "        out_file = out_file.replace(':', '-')\n",
    "        out_file = out_file.replace('/', '-')\n",
    "        out_file = OUTPUT_PATH + out_file\n",
    "        with open(out_file, 'wb') as f:\n",
    "            for i in bw_measurements[k]:\n",
    "                t = str(i) + '\\n'\n",
    "                t = t.encode()\n",
    "                f.write(t)\n",
    "                \n",
    "def batch():\n",
    "    for dt in os.listdir(RAW_DIR):\n",
    "        if os.path.isdir(\"./raw/\" + dt) and dt[0] != \".\":\n",
    "            path = RAW_DIR + dt + \"/\" + RAW_FILE\n",
    "            print(path)\n",
    "            conver_raw_to_format(path, OUTPUT_PATH, media_type=\"youtube.com\")\n",
    "\n",
    "# -- start --\n",
    "batch()"
   ]
  }
 ],
 "metadata": {
  "kernelspec": {
   "display_name": "Python 3",
   "language": "python",
   "name": "python3"
  },
  "language_info": {
   "codemirror_mode": {
    "name": "ipython",
    "version": 3
   },
   "file_extension": ".py",
   "mimetype": "text/x-python",
   "name": "python",
   "nbconvert_exporter": "python",
   "pygments_lexer": "ipython3",
   "version": "3.7.1"
  }
 },
 "nbformat": 4,
 "nbformat_minor": 2
}
