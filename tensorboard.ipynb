{
 "cells": [
  {
   "cell_type": "code",
   "execution_count": 4,
   "metadata": {},
   "outputs": [],
   "source": [
    "import tensorflow as tf\n",
    "\n",
    "a = tf.constant(3.0, name='a')\n",
    "b = tf.constant(5.0, name='b')\n",
    "c = a * b\n",
    "\n",
    "with tf.Session() as sess:\n",
    "    writer = tf.summary.FileWriter(\"./log/\", sess.graph)\n",
    "    sess.run(c)\n",
    "    writer.close()"
   ]
  },
  {
   "cell_type": "code",
   "execution_count": 6,
   "metadata": {},
   "outputs": [
    {
     "name": "stdout",
     "output_type": "stream",
     "text": [
      "W0806 22:39:58.846499 139719121221376 plugin_event_accumulator.py:294] Found more than one graph event per run, or there was a metagraph containing a graph_def, as well as one or more graph events.  Overwriting the graph with the newest event.\n",
      "TensorBoard 1.13.1 at http://MobiSys-Server:8898 (Press CTRL+C to quit)\n",
      "I0806 22:40:11.848142 139719196722944 _internal.py:97] ::ffff:121.170.58.58 - - [06/Aug/2019 22:40:11] \"\u001b[37mGET / HTTP/1.1\u001b[0m\" 200 -\n",
      "I0806 22:40:12.701262 139719196722944 _internal.py:97] ::ffff:121.170.58.58 - - [06/Aug/2019 22:40:12] \"\u001b[37mGET /data/plugins_listing HTTP/1.1\u001b[0m\" 200 -\n",
      "I0806 22:40:12.746313 139719213508352 _internal.py:97] ::ffff:121.170.58.58 - - [06/Aug/2019 22:40:12] \"\u001b[37mGET /data/experiments HTTP/1.1\u001b[0m\" 200 -\n",
      "I0806 22:40:12.746913 139719205115648 _internal.py:97] ::ffff:121.170.58.58 - - [06/Aug/2019 22:40:12] \"\u001b[37mGET /data/environment HTTP/1.1\u001b[0m\" 200 -\n",
      "I0806 22:40:12.749254 139717424019200 _internal.py:97] ::ffff:121.170.58.58 - - [06/Aug/2019 22:40:12] \"\u001b[37mGET /data/runs HTTP/1.1\u001b[0m\" 200 -\n",
      "I0806 22:40:12.821806 139719196722944 _internal.py:97] ::ffff:121.170.58.58 - - [06/Aug/2019 22:40:12] \"\u001b[37mGET /font-roboto/oMMgfZMQthOryQo9n22dcuvvDin1pK8aKteLpeZ5c0A.woff2 HTTP/1.1\u001b[0m\" 200 -\n",
      "I0806 22:40:12.917734 139719196722944 _internal.py:97] ::ffff:121.170.58.58 - - [06/Aug/2019 22:40:12] \"\u001b[37mGET /font-roboto/RxZJdnzeo3R5zSexge8UUZBw1xU1rKptJj_0jans920.woff2 HTTP/1.1\u001b[0m\" 200 -\n",
      "I0806 22:40:13.071152 139717390718720 _internal.py:97] ::ffff:121.170.58.58 - - [06/Aug/2019 22:40:13] \"\u001b[33mGET /favicon.ico HTTP/1.1\u001b[0m\" 404 -\n",
      "I0806 22:40:13.214732 139717424019200 _internal.py:97] ::ffff:121.170.58.58 - - [06/Aug/2019 22:40:13] \"\u001b[37mGET /data/plugin/graphs/run_metadata_tags HTTP/1.1\u001b[0m\" 200 -\n",
      "I0806 22:40:13.215316 139719196722944 _internal.py:97] ::ffff:121.170.58.58 - - [06/Aug/2019 22:40:13] \"\u001b[37mGET /data/plugin/graphs/runs HTTP/1.1\u001b[0m\" 200 -\n",
      "I0806 22:40:13.313441 139719196722944 _internal.py:97] ::ffff:121.170.58.58 - - [06/Aug/2019 22:40:13] \"\u001b[37mGET /data/plugin/graphs/graph?run=.&limit_attr_size=1024&large_attrs_key=_too_large_attrs HTTP/1.1\u001b[0m\" 200 -\n",
      "I0806 22:40:13.732663 139719196722944 _internal.py:97] ::ffff:121.170.58.58 - - [06/Aug/2019 22:40:13] \"\u001b[37mGET /data/plugins_listing HTTP/1.1\u001b[0m\" 200 -\n",
      "^C\n"
     ]
    }
   ],
   "source": [
    "!tensorboard --logdir='./log' --port=8898"
   ]
  }
 ],
 "metadata": {
  "kernelspec": {
   "display_name": "Python 3",
   "language": "python",
   "name": "python3"
  },
  "language_info": {
   "codemirror_mode": {
    "name": "ipython",
    "version": 3
   },
   "file_extension": ".py",
   "mimetype": "text/x-python",
   "name": "python",
   "nbconvert_exporter": "python",
   "pygments_lexer": "ipython3",
   "version": "3.7.1"
  }
 },
 "nbformat": 4,
 "nbformat_minor": 2
}
